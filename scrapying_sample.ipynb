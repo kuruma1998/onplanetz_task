{
 "cells": [
  {
   "cell_type": "markdown",
   "metadata": {},
   "source": [
    "# 練習課題1\n",
    "[前提]  \n",
    "見習い期間中のお試しタスクとしての練習課題です。  \n",
    "  \n",
    "[タスク目的]\n",
    "- お試しタスクを解く事で、タスクやプロジェクトに対する理解力を向上\n",
    "- タスクやプロジェクトに対する進め方を学習する事で、新規プロジェクトにアサインされた際に適用出来るようにする事\n",
    "- 構造化データの扱いに慣れる事\n",
    "- スクレイピングをマスターする\n",
    "  \n",
    "[課題]  \n",
    "不動産業者が保有している物件データを活用し、特徴を分析し、可視化せよ  \n",
    "  \n",
    "[アウトプットイメージ]  \n",
    "1. 参考リンクをもとに、SUUMOの中古物件情報(項目は以下）を所得し、加工した状態でCSVで出力\n",
    "2. 加工後の情報に対して、地区や駅、価格など分布図を作成し可視化せよ（可視化についてはいくつか種類あるので、仮説で設定してOK）\n",
    "---- \n",
    "フィールド名  説明  \n",
    "カテゴリ    中古マンション or 中古一戸建て  \n",
    "販売価格    販売価格  \n",
    "所在地   物件所在地  \n",
    "区 区  \n",
    "沿線  物件最寄沿線  \n",
    "最寄駅   物件最寄駅  \n",
    "徒歩（分） 物件から最寄駅までの徒歩時間。バスの場合は物件からバス停までの時間  \n",
    "バス（分） バス乗車時間。バスを使用しない場合は0  \n",
    "土地面積    土地面積。中古マンションは建物面積＝土地面積とする  \n",
    "建物面積    中古一戸建てもしくは中古マンションの建物面積  \n",
    "バルコニー バルコニー面積。中古マンションのみ使用  \n",
    "間取り   物件の間取り  \n",
    "築年数   築年月から計算   \n",
    "----\n",
    "***取得できれば***  \n",
    "向き（日当たり）  \n",
    "駐車場有無  \n",
    "庭有無  \n",
    "周辺環境  \n",
    "-----\n",
    "[コードレビュー]  \n",
    "岩崎くんに依頼  \n",
    "  \n",
    "[期限]  \n",
    "1週間  \n",
    "  \n",
    "[参考リンク]  \n",
    "https://www.gis-py.com/entry/scraping-suumo  \n",
    "https://qiita.com/0yan/items/90800b03cc38e322d920  "
   ]
  },
  {
   "cell_type": "code",
   "execution_count": 21,
   "metadata": {},
   "outputs": [],
   "source": [
    "import requests\n",
    "from bs4 import BeautifulSoup\n",
    "import time\n",
    "import os\n",
    "import datetime\n",
    "import re\n",
    "import csv\n",
    "import pandas as pd\n",
    "import openpyxl\n",
    "import urllib.request"
   ]
  },
  {
   "cell_type": "markdown",
   "metadata": {},
   "source": [
    "## スクレイピング"
   ]
  },
  {
   "cell_type": "code",
   "execution_count": 22,
   "metadata": {},
   "outputs": [],
   "source": [
    "url_list = [\"https://suumo.jp/jj/bukken/ichiran/JJ010FJ001/?ar=030&bs=021&ta=14\"  \\\n",
    "            \"&jspIdFlg=patternShikugun&sc=14101&sc=14102&sc=14103&sc=14104&sc=14105&sc=14106\"  \\\n",
    "            \"&sc=14107&sc=14108&sc=14109&sc=14110&sc=14111&sc=14112&sc=14113&sc=14114\"  \\\n",
    "            \"&sc=14115&sc=14116&sc=14117&sc=14118&kb=1&kt=9999999&tb=0&tt=9999999&hb=0\"  \\\n",
    "            \"&ht=9999999&ekTjCd=&ekTjNm=&tj=0&cnb=0&cn=9999999&srch_navi=1&pn={}\",\n",
    "\n",
    "            \"https://suumo.jp/jj/bukken/ichiran/JJ010FJ001/?ar=030&bs=011&ta=14\" \\\n",
    "            \"&jspIdFlg=patternShikugun&sc=14101&sc=14102&sc=14103&sc=14104&sc=14105&sc=14106\" \\\n",
    "            \"&sc=14107&sc=14108&sc=14109&sc=14110&sc=14111&sc=14112&sc=14113&sc=14114\" \\\n",
    "            \"&sc=14115&sc=14116&sc=14117&sc=14118&kb=1&kt=9999999&mb=0&mt=9999999\" \\\n",
    "            \"&ekTjCd=&ekTjNm=&tj=0&cnb=0&cn=9999999&srch_navi=1&pn={}\"]"
   ]
  },
  {
   "cell_type": "code",
   "execution_count": 23,
   "metadata": {},
   "outputs": [],
   "source": [
    "# 収集するデータのカラム\n",
    "cols = [\"カテゴリ\", \"販売価格\", \"所在地\", \"区\", \"沿線\", \"最寄駅\", \"徒歩（分）\", \"バス（分）\",\n",
    "        \"土地面積\", \"建物面積\", \"バルコニー\", \"間取り\", \"築年数\"]"
   ]
  },
  {
   "cell_type": "code",
   "execution_count": 24,
   "metadata": {},
   "outputs": [],
   "source": [
    "def identify_floor_plan(floor_plan):\n",
    "    # 間取りの種類が多すぎるのでまとめる\n",
    "    if floor_plan.find(\"ワンルーム\") > -1:\n",
    "        floor_plan = \"1K\"\n",
    "    if floor_plan.find(\"+\") > -1:\n",
    "        floor_plan = floor_plan[:floor_plan.find(\"+\")]\n",
    "    if floor_plan.find(\"LK\") > -1:\n",
    "        floor_plan = floor_plan[0:1] + \"LDK\"\n",
    "    if floor_plan.find(\"LL\") > -1 or \\\n",
    "       floor_plan.find(\"DD\") > -1 or \\\n",
    "       floor_plan.find(\"KK\") > -1:\n",
    "        floor_plan = floor_plan = floor_plan[0:1] + \"LDK\"\n",
    "\n",
    "    return floor_plan"
   ]
  },
  {
   "cell_type": "code",
   "execution_count": 25,
   "metadata": {},
   "outputs": [],
   "source": [
    "#失敗\n",
    "def convert_price(price):\n",
    "    #「〇万円※権利金含む」の処理\n",
    "    if price.find(\"※\") > -1:\n",
    "        price = price[:price.find(\"※\")]\n",
    "    \n",
    "    #「○○万円～○○万円」の処理\n",
    "    if price.find(\"～\") > -1:\n",
    "        price = price[price.find(\"～\") + 1:]\n",
    "        #「億」が含まれる場合\n",
    "        if price.find(\"億\") > -1:\n",
    "            #「1億円」ジャストのような場合の処理\n",
    "            if price.find(\"万\") == -1:\n",
    "                price = int(price[:price.find(\"億\")]) * 100000000\n",
    "            else:\n",
    "                oku = int(price[:price.find(\"億\")]) * 100000000\n",
    "                price = oku + int(price[price.find(\"億\") + 1:-2]) * 10000\n",
    "        #「億」が含まれない場合\n",
    "        else:\n",
    "            price = int(price[:price.find(\"万円\")]) * 10000\n",
    "            \n",
    "    else:#数値に変換\n",
    "        #「億」が含まれる場合\n",
    "        if price.find(\"億\") > -1:\n",
    "            #「1億円」ジャストのような場合の処理\n",
    "            if price.find(\"万\") == -1:\n",
    "                price = int(price[:price.find(\"億\")]) * 100000000\n",
    "            else:\n",
    "                oku = int(price[:price.find(\"億\")]) * 100000000\n",
    "                price = oku + int(price[price.find(\"億\") + 1:-2]) * 10000\n",
    "         #「億」が含まれない場合\n",
    "        else:\n",
    "            price = int(price[:-2]) * 10000\n",
    "            \n",
    "    return price"
   ]
  },
  {
   "cell_type": "code",
   "execution_count": 39,
   "metadata": {},
   "outputs": [],
   "source": [
    "#訂正版\n",
    "def convert_price(price):\n",
    "    #「〇万円※権利金含む」の処理\n",
    "    if price.find(\"※\") > -1:\n",
    "        price = price[:price.find(\"※\")]\n",
    "    \n",
    "    #「○○万円・○○万円」の処理\n",
    "    if price.find(\"・\") > -1:\n",
    "        price = price[:price.find(\"・\")]\n",
    "    \n",
    "    #「○○万円～○○万円」の処理\n",
    "    if price.find(\"～\") > -1:\n",
    "        price = price[price.find(\"～\") + 1:]\n",
    "        #「億」が含まれる場合\n",
    "        if price.find(\"億\") > -1:\n",
    "            #「1億円」ジャストのような場合の処理\n",
    "            if price.find(\"万\") == -1:\n",
    "                price = int(price[:price.find(\"億\")]) * 100000000\n",
    "            else:\n",
    "                oku = int(price[:price.find(\"億\")]) * 100000000\n",
    "                price = oku + int(price[price.find(\"億\") + 1:-2]) * 10000\n",
    "        #「億」が含まれない場合\n",
    "        else:\n",
    "            price = int(price[:price.find(\"万円\")]) * 10000\n",
    "            \n",
    "    else:#数値に変換\n",
    "        #「億」が含まれる場合\n",
    "        if price.find(\"億\") > -1:\n",
    "            #「1億円」ジャストのような場合の処理\n",
    "            if price.find(\"万\") == -1:\n",
    "                price = int(price[:price.find(\"億\")]) * 100000000\n",
    "            else:\n",
    "                oku = int(price[:price.find(\"億\")]) * 100000000\n",
    "                price = oku + int(price[price.find(\"億\") + 1:-2]) * 10000\n",
    "        #「億」が含まれない場合\n",
    "        else:\n",
    "            if price.find(\"万円\") > -1:\n",
    "                price = int(price[:-2]) * 10000\n",
    "            else:\n",
    "                man = int(price[:price.find(\"万\")]) * 10000\n",
    "                price = man + int(price[price.find(\"万\") + 1:-1])\n",
    "            \n",
    "    return price"
   ]
  },
  {
   "cell_type": "code",
   "execution_count": 52,
   "metadata": {},
   "outputs": [],
   "source": [
    "def remove_brackets(data):\n",
    "    # ○○～○○の処理\n",
    "    if data.find(\"～\") > -1:\n",
    "        data = data[data.find(\"～\") + 1:]\n",
    "\n",
    "    # m2以降を除去\n",
    "    if data.find(\"m2\") > -1:\n",
    "        data = data[:data.find(\"m\")]\n",
    "    if data.find(\"㎡\") > -1:\n",
    "        data = data[:data.find(\"㎡\")]\n",
    "\n",
    "    # （）を除去\n",
    "    if data.find(\"（\") > -1:\n",
    "        data = data[:data.find(\"（\")]\n",
    "\n",
    "    return data"
   ]
  },
  {
   "cell_type": "code",
   "execution_count": 53,
   "metadata": {},
   "outputs": [],
   "source": [
    "def get_line_station(line_station):\n",
    "\n",
    "    # ＪＲをJRに変換\n",
    "    if line_station.find(\"ＪＲ\") > -1:\n",
    "        line_station = line_station.replace(\"ＪＲ\", \"JR\")\n",
    "\n",
    "    # バスと徒歩の時間を取得\n",
    "    if line_station.find(\"バス\") > -1:\n",
    "        bus_time = line_station[line_station.find(\"バス\") + 2 : line_station.find(\"分\")]\n",
    "\n",
    "        # バスの場合は徒歩時間＝(バス時間×10) + バス停までの徒歩時間とする\n",
    "        walk_time = line_station[line_station.find(\"停歩\") + 2 : line_station.rfind(\"分\")]\n",
    "\n",
    "    else:\n",
    "        bus_time = 0\n",
    "        walk_time = line_station[line_station.find(\"徒歩\") + 2 : line_station.rfind(\"分\")]\n",
    "\n",
    "    # 沿線と駅を取得\n",
    "    line = line_station[ : line_station.find(\"「\") ]\n",
    "\n",
    "    if line.find(\"湘南新宿ライン高海\") > -1 or line.find(\"湘南新宿ライン宇須\") > -1:\n",
    "        line = \"湘南新宿ライン\"\n",
    "\n",
    "    station = line_station[line_station.find(\"「\") + 1 : line_station.find(\"」\")]\n",
    "\n",
    "    return line, station, bus_time, walk_time"
   ]
  },
  {
   "cell_type": "code",
   "execution_count": 54,
   "metadata": {},
   "outputs": [],
   "source": [
    "def get_page_count(hit_count):\n",
    "\n",
    "    # データ整形\n",
    "    hit_count = hit_count.strip()\n",
    "    hit_count = hit_count.replace(\",\", \"\")\n",
    "    hit_count = hit_count.replace(\"件\", \"\")\n",
    "\n",
    "    # ページ数計算\n",
    "    page_count = divmod(int(hit_count), 30)\n",
    "    if page_count[1] == 0:\n",
    "        page_count = page_count[0]\n",
    "    else:\n",
    "        page_count = page_count[0] + 1\n",
    "\n",
    "    return page_count"
   ]
  },
  {
   "cell_type": "code",
   "execution_count": 55,
   "metadata": {},
   "outputs": [],
   "source": [
    "def main():\n",
    "\n",
    "    df = pd.DataFrame(index=[], columns=cols)\n",
    "\n",
    "    for i, url_base in enumerate(url_list):\n",
    "        # 対象urlのデータを取得\n",
    "        url = url_base.format(1)\n",
    "        html = urllib.request.urlopen(url).read()\n",
    "        soup = BeautifulSoup(html)\n",
    "        hit_count = soup.find(\"div\", class_=\"pagination_set-hit\").text\n",
    "\n",
    "        # 各urlのページ数計算\n",
    "        page_count = get_page_count(hit_count)\n",
    "\n",
    "        data = {}\n",
    "        for page in range(1, page_count + 1):\n",
    "\n",
    "            # ページごとにリクエスト\n",
    "            if page != 1:\n",
    "                url = url_base.format(page)\n",
    "                html = urllib.request.urlopen(url).read()\n",
    "                soup = BeautifulSoup(html)\n",
    "\n",
    "            for s in soup.findAll('div', 'dottable-line'):\n",
    "\n",
    "                if i == 0:\n",
    "                    data[\"カテゴリ\"] = \"中古一戸建て\"\n",
    "\n",
    "                else:\n",
    "                    data[\"カテゴリ\"] = \"中古マンション\"\n",
    "\n",
    "                if len(s.findAll('dt')) == 1:\n",
    "                    if s.find('dt').text == \"販売価格\":\n",
    "\n",
    "                        # ○○万円を数字に変換\n",
    "                        price = convert_price(s.find(\"span\").text)\n",
    "                        data[\"販売価格\"] = price\n",
    "\n",
    "                if len(s.findAll('dt')) == 2:\n",
    "\n",
    "                    if s.findAll('dt')[0].text == \"所在地\":\n",
    "                        area = s.findAll(\"dd\")[0].text\n",
    "                        data[\"所在地\"] = area\n",
    "                        data[\"区\"] = area[area.find(\"市\") + 1:area.find(\"区\") + 1]\n",
    "\n",
    "                    if s.findAll('dt')[1].text == \"沿線・駅\":\n",
    "\n",
    "                        # データ加工\n",
    "                        line, station, bus_time, \\\n",
    "                            walk_time = get_line_station(s.findAll(\"dd\")[1].text)\n",
    "\n",
    "                        data[\"沿線\"] = line\n",
    "                        data[\"最寄駅\"] = station\n",
    "                        data[\"徒歩（分）\"] = walk_time\n",
    "                        data[\"バス（分）\"] = bus_time\n",
    "\n",
    "                if s.find('table', class_ = 'dottable-fix') != None:\n",
    "                    if s.findAll('dt')[0].text == \"土地面積\":\n",
    "\n",
    "                        land_area = remove_brackets(s.findAll(\"dd\")[0].text)\n",
    "                        data[\"土地面積\"] = land_area\n",
    "\n",
    "                    if s.findAll('dt')[1].text == \"間取り\":\n",
    "\n",
    "                        floor_plan = remove_brackets(s.findAll(\"dd\")[1].text)\n",
    "\n",
    "                        # 間取りをまとめる\n",
    "                        floor_plan = identify_floor_plan(floor_plan)\n",
    "                        data[\"間取り\"] = floor_plan\n",
    "\n",
    "                    if s.findAll('dt')[0].text == \"建物面積\":\n",
    "\n",
    "                        house_area = remove_brackets(s.findAll(\"dd\")[0].text)\n",
    "                        data[\"建物面積\"] = house_area\n",
    "\n",
    "                    if s.findAll('dt')[0].text == \"専有面積\":\n",
    "\n",
    "                        house_area = remove_brackets(s.findAll(\"dd\")[0].text)\n",
    "                        data[\"建物面積\"] = house_area\n",
    "\n",
    "                        # 中古マンションは建物面積＝土地面積とする\n",
    "                        data[\"土地面積\"] = house_area\n",
    "\n",
    "                    if s.findAll('dt')[0].text == \"バルコニー\":\n",
    "\n",
    "                        if s.findAll(\"dd\")[0].text.find(\"-\") > -1:\n",
    "                            data[\"バルコニー\"] = 0\n",
    "                        else:\n",
    "                            balcony_area = remove_brackets(s.findAll(\"dd\")[0].text)\n",
    "                            data[\"バルコニー\"] = balcony_area\n",
    "\n",
    "                    else: # 一戸建ての場合は0\n",
    "                        data[\"バルコニー\"] = 0\n",
    "\n",
    "                    if s.findAll('dt')[1].text == \"築年月\":\n",
    "\n",
    "                        # 築年数を算出\n",
    "                        built_year = 2021 - int(s.findAll(\"dd\")[1].text[:4])\n",
    "                        data[\"築年数\"] = built_year\n",
    "\n",
    "                # データフレームに1物件ずつデータを格納\n",
    "                if len(data) == 13:\n",
    "                    df = df.append(data, ignore_index=True)\n",
    "                    data = {}\n",
    "\n",
    "    # CSV 出力\n",
    "    df.to_csv(\"sample.csv\", index=False, encoding = \"utf-8\")\n",
    "\n",
    "if __name__ == '__main__':\n",
    "    main()"
   ]
  },
  {
   "cell_type": "markdown",
   "metadata": {},
   "source": [
    "## 可視化"
   ]
  },
  {
   "cell_type": "code",
   "execution_count": 113,
   "metadata": {},
   "outputs": [],
   "source": [
    "import matplotlib.pyplot as plt\n",
    "#from matplotlib import cm\n",
    "import seaborn as sns\n",
    "%matplotlib inline"
   ]
  },
  {
   "cell_type": "code",
   "execution_count": 71,
   "metadata": {},
   "outputs": [],
   "source": [
    "df = pd.read_csv(\"sample.csv\")\n",
    "df = df.astype({'建物面積': 'float64'})"
   ]
  },
  {
   "cell_type": "code",
   "execution_count": 106,
   "metadata": {
    "collapsed": true
   },
   "outputs": [
    {
     "data": {
      "text/plain": [
       "<bound method NDFrame.head of 0        16800000\n",
       "1        17500000\n",
       "2        18800000\n",
       "3        19800000\n",
       "4        19800000\n",
       "          ...    \n",
       "8649     52900000\n",
       "8650     64800000\n",
       "8651     68800000\n",
       "8652    149800000\n",
       "8653    600000000\n",
       "Name: 販売価格, Length: 8654, dtype: int64>"
      ]
     },
     "execution_count": 106,
     "metadata": {},
     "output_type": "execute_result"
    }
   ],
   "source": [
    "df[\"販売価格\"].head"
   ]
  },
  {
   "cell_type": "code",
   "execution_count": 88,
   "metadata": {
    "collapsed": true
   },
   "outputs": [
    {
     "data": {
      "text/plain": [
       "カテゴリ     0\n",
       "販売価格     0\n",
       "所在地      0\n",
       "区        0\n",
       "沿線       0\n",
       "最寄駅      0\n",
       "徒歩（分）    0\n",
       "バス（分）    0\n",
       "土地面積     0\n",
       "建物面積     0\n",
       "バルコニー    0\n",
       "間取り      0\n",
       "築年数      0\n",
       "dtype: int64"
      ]
     },
     "execution_count": 88,
     "metadata": {},
     "output_type": "execute_result"
    }
   ],
   "source": [
    "#欠損値が無いか確認\n",
    "df.isnull().sum()"
   ]
  },
  {
   "cell_type": "code",
   "execution_count": 105,
   "metadata": {},
   "outputs": [
    {
     "data": {
      "text/plain": [
       "dtype('int64')"
      ]
     },
     "execution_count": 105,
     "metadata": {},
     "output_type": "execute_result"
    }
   ],
   "source": [
    "df[\"築年数\"].dtypes\n",
    "#df[\"販売価格\"].dtypes"
   ]
  },
  {
   "cell_type": "code",
   "execution_count": 114,
   "metadata": {},
   "outputs": [
    {
     "data": {
      "text/plain": [
       "<matplotlib.collections.PathCollection at 0x268af9ceb20>"
      ]
     },
     "execution_count": 114,
     "metadata": {},
     "output_type": "execute_result"
    },
    {
     "data": {
      "image/png": "[encoded data removed]",
      "text/plain": [
       "<Figure size 432x288 with 1 Axes>"
      ]
     },
     "metadata": {
      "needs_background": "light"
     },
     "output_type": "display_data"
    }
   ],
   "source": [
    "plt.scatter(df[\"築年数\"], df[\"販売価格\"], marker='.')"
   ]
  },
  {
   "cell_type": "code",
   "execution_count": 117,
   "metadata": {
    "scrolled": true
   },
   "outputs": [
    {
     "data": {
      "text/plain": [
       "<matplotlib.collections.PathCollection at 0x268ab1e9730>"
      ]
     },
     "execution_count": 117,
     "metadata": {},
     "output_type": "execute_result"
    },
    {
     "data": {
      "image/png": "[encoded data removed]",
      "text/plain": [
       "<Figure size 432x288 with 1 Axes>"
      ]
     },
     "metadata": {
      "needs_background": "light"
     },
     "output_type": "display_data"
    }
   ],
   "source": [
    "plt.scatter(df[\"建物面積\"], df[\"販売価格\"], marker='.')"
   ]
  },
  {
   "cell_type": "code",
   "execution_count": 72,
   "metadata": {
    "collapsed": true
   },
   "outputs": [
    {
     "data": {
      "text/plain": [
       "{'JR京浜東北線',\n",
       " 'JR南武線',\n",
       " 'JR埼京線',\n",
       " 'JR東海道本線',\n",
       " 'JR根岸線',\n",
       " 'JR横浜線',\n",
       " 'JR横須賀線',\n",
       " 'JR鶴見線',\n",
       " 'みなとみらい線',\n",
       " 'グリーンライン',\n",
       " 'シーサイドライン',\n",
       " 'ブルーライン',\n",
       " '京急本線',\n",
       " '京急逗子線',\n",
       " '小田急江ノ島線',\n",
       " '小田急線',\n",
       " '市営バス',\n",
       " '東急こどもの国線',\n",
       " '東急バス',\n",
       " '東急東横線',\n",
       " '東急田園都市線',\n",
       " '東急目黒線',\n",
       " '東海道新幹線',\n",
       " '横浜市営バス',\n",
       " '湘南新宿ライン',\n",
       " '相鉄いずみ野線',\n",
       " '相鉄新横浜線',\n",
       " '相鉄本線',\n",
       " '神奈中バス',\n",
       " '神奈川中央交通'}"
      ]
     },
     "execution_count": 72,
     "metadata": {},
     "output_type": "execute_result"
    }
   ],
   "source": [
    "set(df[\"沿線\"])"
   ]
  },
  {
   "cell_type": "code",
   "execution_count": 102,
   "metadata": {
    "collapsed": true
   },
   "outputs": [
    {
     "data": {
      "text/plain": [
       "{-1,\n",
       " 0,\n",
       " 1,\n",
       " 2,\n",
       " 3,\n",
       " 4,\n",
       " 5,\n",
       " 6,\n",
       " 7,\n",
       " 8,\n",
       " 9,\n",
       " 10,\n",
       " 11,\n",
       " 12,\n",
       " 13,\n",
       " 14,\n",
       " 15,\n",
       " 16,\n",
       " 17,\n",
       " 18,\n",
       " 19,\n",
       " 20,\n",
       " 21,\n",
       " 22,\n",
       " 23,\n",
       " 24,\n",
       " 25,\n",
       " 26,\n",
       " 27,\n",
       " 28,\n",
       " 29,\n",
       " 30,\n",
       " 31,\n",
       " 32,\n",
       " 33,\n",
       " 34,\n",
       " 35,\n",
       " 36,\n",
       " 37,\n",
       " 38,\n",
       " 39,\n",
       " 40,\n",
       " 41,\n",
       " 42,\n",
       " 43,\n",
       " 44,\n",
       " 45,\n",
       " 46,\n",
       " 47,\n",
       " 48,\n",
       " 49,\n",
       " 50,\n",
       " 51,\n",
       " 52,\n",
       " 53,\n",
       " 54,\n",
       " 55,\n",
       " 56,\n",
       " 57,\n",
       " 58,\n",
       " 59,\n",
       " 60,\n",
       " 61,\n",
       " 62,\n",
       " 63,\n",
       " 65,\n",
       " 70,\n",
       " 94}"
      ]
     },
     "execution_count": 102,
     "metadata": {},
     "output_type": "execute_result"
    }
   ],
   "source": [
    "set(df[\"築年数\"])"
   ]
  },
  {
   "cell_type": "code",
   "execution_count": 108,
   "metadata": {},
   "outputs": [],
   "source": [
    "route = ['JR京浜東北線',\n",
    " 'JR南武線',\n",
    " 'JR埼京線',\n",
    " 'JR東海道本線',\n",
    " 'JR根岸線',\n",
    " 'JR横浜線',\n",
    " 'JR横須賀線',\n",
    " 'JR鶴見線',]\n",
    "floor_plan = ['55LDK',\n",
    " '5DK',\n",
    " '5K',\n",
    " '5LDK',\n",
    " '6DK',\n",
    " '6LDK',\n",
    " '7DK',\n",
    " '7LDK',\n",
    " '8LDK',\n",
    " '9LDK']\n",
    "filtered = df[df[\"沿線\"].isin(route) & df[\"間取り\"].isin(floor_plan)]"
   ]
  },
  {
   "cell_type": "code",
   "execution_count": 109,
   "metadata": {},
   "outputs": [
    {
     "name": "stderr",
     "output_type": "stream",
     "text": [
      "C:\\Users\\karin\\anaconda3\\envs\\20210204\\lib\\site-packages\\matplotlib\\backends\\backend_agg.py:238: RuntimeWarning: Glyph 36009 missing from current font.\n",
      "  font.set_text(s, 0.0, flags=flags)\n",
      "C:\\Users\\karin\\anaconda3\\envs\\20210204\\lib\\site-packages\\matplotlib\\backends\\backend_agg.py:238: RuntimeWarning: Glyph 22770 missing from current font.\n",
      "  font.set_text(s, 0.0, flags=flags)\n",
      "C:\\Users\\karin\\anaconda3\\envs\\20210204\\lib\\site-packages\\matplotlib\\backends\\backend_agg.py:238: RuntimeWarning: Glyph 20385 missing from current font.\n",
      "  font.set_text(s, 0.0, flags=flags)\n",
      "C:\\Users\\karin\\anaconda3\\envs\\20210204\\lib\\site-packages\\matplotlib\\backends\\backend_agg.py:238: RuntimeWarning: Glyph 26684 missing from current font.\n",
      "  font.set_text(s, 0.0, flags=flags)\n",
      "C:\\Users\\karin\\anaconda3\\envs\\20210204\\lib\\site-packages\\matplotlib\\backends\\backend_agg.py:238: RuntimeWarning: Glyph 22303 missing from current font.\n",
      "  font.set_text(s, 0.0, flags=flags)\n",
      "C:\\Users\\karin\\anaconda3\\envs\\20210204\\lib\\site-packages\\matplotlib\\backends\\backend_agg.py:238: RuntimeWarning: Glyph 22320 missing from current font.\n",
      "  font.set_text(s, 0.0, flags=flags)\n",
      "C:\\Users\\karin\\anaconda3\\envs\\20210204\\lib\\site-packages\\matplotlib\\backends\\backend_agg.py:238: RuntimeWarning: Glyph 38754 missing from current font.\n",
      "  font.set_text(s, 0.0, flags=flags)\n",
      "C:\\Users\\karin\\anaconda3\\envs\\20210204\\lib\\site-packages\\matplotlib\\backends\\backend_agg.py:238: RuntimeWarning: Glyph 31309 missing from current font.\n",
      "  font.set_text(s, 0.0, flags=flags)\n",
      "C:\\Users\\karin\\anaconda3\\envs\\20210204\\lib\\site-packages\\matplotlib\\backends\\backend_agg.py:238: RuntimeWarning: Glyph 24314 missing from current font.\n",
      "  font.set_text(s, 0.0, flags=flags)\n",
      "C:\\Users\\karin\\anaconda3\\envs\\20210204\\lib\\site-packages\\matplotlib\\backends\\backend_agg.py:238: RuntimeWarning: Glyph 29289 missing from current font.\n",
      "  font.set_text(s, 0.0, flags=flags)\n",
      "C:\\Users\\karin\\anaconda3\\envs\\20210204\\lib\\site-packages\\matplotlib\\backends\\backend_agg.py:238: RuntimeWarning: Glyph 12496 missing from current font.\n",
      "  font.set_text(s, 0.0, flags=flags)\n",
      "C:\\Users\\karin\\anaconda3\\envs\\20210204\\lib\\site-packages\\matplotlib\\backends\\backend_agg.py:238: RuntimeWarning: Glyph 12523 missing from current font.\n",
      "  font.set_text(s, 0.0, flags=flags)\n",
      "C:\\Users\\karin\\anaconda3\\envs\\20210204\\lib\\site-packages\\matplotlib\\backends\\backend_agg.py:238: RuntimeWarning: Glyph 12467 missing from current font.\n",
      "  font.set_text(s, 0.0, flags=flags)\n",
      "C:\\Users\\karin\\anaconda3\\envs\\20210204\\lib\\site-packages\\matplotlib\\backends\\backend_agg.py:238: RuntimeWarning: Glyph 12491 missing from current font.\n",
      "  font.set_text(s, 0.0, flags=flags)\n",
      "C:\\Users\\karin\\anaconda3\\envs\\20210204\\lib\\site-packages\\matplotlib\\backends\\backend_agg.py:238: RuntimeWarning: Glyph 12540 missing from current font.\n",
      "  font.set_text(s, 0.0, flags=flags)\n",
      "C:\\Users\\karin\\anaconda3\\envs\\20210204\\lib\\site-packages\\matplotlib\\backends\\backend_agg.py:238: RuntimeWarning: Glyph 31689 missing from current font.\n",
      "  font.set_text(s, 0.0, flags=flags)\n",
      "C:\\Users\\karin\\anaconda3\\envs\\20210204\\lib\\site-packages\\matplotlib\\backends\\backend_agg.py:238: RuntimeWarning: Glyph 24180 missing from current font.\n",
      "  font.set_text(s, 0.0, flags=flags)\n",
      "C:\\Users\\karin\\anaconda3\\envs\\20210204\\lib\\site-packages\\matplotlib\\backends\\backend_agg.py:238: RuntimeWarning: Glyph 25968 missing from current font.\n",
      "  font.set_text(s, 0.0, flags=flags)\n",
      "C:\\Users\\karin\\anaconda3\\envs\\20210204\\lib\\site-packages\\matplotlib\\backends\\backend_agg.py:238: RuntimeWarning: Glyph 36009 missing from current font.\n",
      "  font.set_text(s, 0.0, flags=flags)\n",
      "C:\\Users\\karin\\anaconda3\\envs\\20210204\\lib\\site-packages\\matplotlib\\backends\\backend_agg.py:238: RuntimeWarning: Glyph 22770 missing from current font.\n",
      "  font.set_text(s, 0.0, flags=flags)\n",
      "C:\\Users\\karin\\anaconda3\\envs\\20210204\\lib\\site-packages\\matplotlib\\backends\\backend_agg.py:238: RuntimeWarning: Glyph 20385 missing from current font.\n",
      "  font.set_text(s, 0.0, flags=flags)\n",
      "C:\\Users\\karin\\anaconda3\\envs\\20210204\\lib\\site-packages\\matplotlib\\backends\\backend_agg.py:238: RuntimeWarning: Glyph 26684 missing from current font.\n",
      "  font.set_text(s, 0.0, flags=flags)\n",
      "C:\\Users\\karin\\anaconda3\\envs\\20210204\\lib\\site-packages\\matplotlib\\backends\\backend_agg.py:238: RuntimeWarning: Glyph 22303 missing from current font.\n",
      "  font.set_text(s, 0.0, flags=flags)\n",
      "C:\\Users\\karin\\anaconda3\\envs\\20210204\\lib\\site-packages\\matplotlib\\backends\\backend_agg.py:238: RuntimeWarning: Glyph 22320 missing from current font.\n",
      "  font.set_text(s, 0.0, flags=flags)\n",
      "C:\\Users\\karin\\anaconda3\\envs\\20210204\\lib\\site-packages\\matplotlib\\backends\\backend_agg.py:238: RuntimeWarning: Glyph 38754 missing from current font.\n",
      "  font.set_text(s, 0.0, flags=flags)\n",
      "C:\\Users\\karin\\anaconda3\\envs\\20210204\\lib\\site-packages\\matplotlib\\backends\\backend_agg.py:238: RuntimeWarning: Glyph 31309 missing from current font.\n",
      "  font.set_text(s, 0.0, flags=flags)\n",
      "C:\\Users\\karin\\anaconda3\\envs\\20210204\\lib\\site-packages\\matplotlib\\backends\\backend_agg.py:238: RuntimeWarning: Glyph 24314 missing from current font.\n",
      "  font.set_text(s, 0.0, flags=flags)\n",
      "C:\\Users\\karin\\anaconda3\\envs\\20210204\\lib\\site-packages\\matplotlib\\backends\\backend_agg.py:238: RuntimeWarning: Glyph 29289 missing from current font.\n",
      "  font.set_text(s, 0.0, flags=flags)\n",
      "C:\\Users\\karin\\anaconda3\\envs\\20210204\\lib\\site-packages\\matplotlib\\backends\\backend_agg.py:238: RuntimeWarning: Glyph 12496 missing from current font.\n",
      "  font.set_text(s, 0.0, flags=flags)\n",
      "C:\\Users\\karin\\anaconda3\\envs\\20210204\\lib\\site-packages\\matplotlib\\backends\\backend_agg.py:238: RuntimeWarning: Glyph 12523 missing from current font.\n",
      "  font.set_text(s, 0.0, flags=flags)\n",
      "C:\\Users\\karin\\anaconda3\\envs\\20210204\\lib\\site-packages\\matplotlib\\backends\\backend_agg.py:238: RuntimeWarning: Glyph 12467 missing from current font.\n",
      "  font.set_text(s, 0.0, flags=flags)\n",
      "C:\\Users\\karin\\anaconda3\\envs\\20210204\\lib\\site-packages\\matplotlib\\backends\\backend_agg.py:238: RuntimeWarning: Glyph 12491 missing from current font.\n",
      "  font.set_text(s, 0.0, flags=flags)\n",
      "C:\\Users\\karin\\anaconda3\\envs\\20210204\\lib\\site-packages\\matplotlib\\backends\\backend_agg.py:238: RuntimeWarning: Glyph 12540 missing from current font.\n",
      "  font.set_text(s, 0.0, flags=flags)\n",
      "C:\\Users\\karin\\anaconda3\\envs\\20210204\\lib\\site-packages\\matplotlib\\backends\\backend_agg.py:238: RuntimeWarning: Glyph 31689 missing from current font.\n",
      "  font.set_text(s, 0.0, flags=flags)\n",
      "C:\\Users\\karin\\anaconda3\\envs\\20210204\\lib\\site-packages\\matplotlib\\backends\\backend_agg.py:238: RuntimeWarning: Glyph 24180 missing from current font.\n",
      "  font.set_text(s, 0.0, flags=flags)\n",
      "C:\\Users\\karin\\anaconda3\\envs\\20210204\\lib\\site-packages\\matplotlib\\backends\\backend_agg.py:238: RuntimeWarning: Glyph 25968 missing from current font.\n",
      "  font.set_text(s, 0.0, flags=flags)\n",
      "C:\\Users\\karin\\anaconda3\\envs\\20210204\\lib\\site-packages\\matplotlib\\backends\\backend_agg.py:201: RuntimeWarning: Glyph 36009 missing from current font.\n",
      "  font.set_text(s, 0, flags=flags)\n",
      "C:\\Users\\karin\\anaconda3\\envs\\20210204\\lib\\site-packages\\matplotlib\\backends\\backend_agg.py:201: RuntimeWarning: Glyph 22770 missing from current font.\n",
      "  font.set_text(s, 0, flags=flags)\n",
      "C:\\Users\\karin\\anaconda3\\envs\\20210204\\lib\\site-packages\\matplotlib\\backends\\backend_agg.py:201: RuntimeWarning: Glyph 20385 missing from current font.\n",
      "  font.set_text(s, 0, flags=flags)\n",
      "C:\\Users\\karin\\anaconda3\\envs\\20210204\\lib\\site-packages\\matplotlib\\backends\\backend_agg.py:201: RuntimeWarning: Glyph 26684 missing from current font.\n",
      "  font.set_text(s, 0, flags=flags)\n",
      "C:\\Users\\karin\\anaconda3\\envs\\20210204\\lib\\site-packages\\matplotlib\\backends\\backend_agg.py:201: RuntimeWarning: Glyph 22303 missing from current font.\n",
      "  font.set_text(s, 0, flags=flags)\n",
      "C:\\Users\\karin\\anaconda3\\envs\\20210204\\lib\\site-packages\\matplotlib\\backends\\backend_agg.py:201: RuntimeWarning: Glyph 22320 missing from current font.\n",
      "  font.set_text(s, 0, flags=flags)\n",
      "C:\\Users\\karin\\anaconda3\\envs\\20210204\\lib\\site-packages\\matplotlib\\backends\\backend_agg.py:201: RuntimeWarning: Glyph 38754 missing from current font.\n",
      "  font.set_text(s, 0, flags=flags)\n",
      "C:\\Users\\karin\\anaconda3\\envs\\20210204\\lib\\site-packages\\matplotlib\\backends\\backend_agg.py:201: RuntimeWarning: Glyph 31309 missing from current font.\n",
      "  font.set_text(s, 0, flags=flags)\n",
      "C:\\Users\\karin\\anaconda3\\envs\\20210204\\lib\\site-packages\\matplotlib\\backends\\backend_agg.py:201: RuntimeWarning: Glyph 24314 missing from current font.\n",
      "  font.set_text(s, 0, flags=flags)\n",
      "C:\\Users\\karin\\anaconda3\\envs\\20210204\\lib\\site-packages\\matplotlib\\backends\\backend_agg.py:201: RuntimeWarning: Glyph 29289 missing from current font.\n",
      "  font.set_text(s, 0, flags=flags)\n",
      "C:\\Users\\karin\\anaconda3\\envs\\20210204\\lib\\site-packages\\matplotlib\\backends\\backend_agg.py:201: RuntimeWarning: Glyph 12496 missing from current font.\n",
      "  font.set_text(s, 0, flags=flags)\n",
      "C:\\Users\\karin\\anaconda3\\envs\\20210204\\lib\\site-packages\\matplotlib\\backends\\backend_agg.py:201: RuntimeWarning: Glyph 12523 missing from current font.\n",
      "  font.set_text(s, 0, flags=flags)\n",
      "C:\\Users\\karin\\anaconda3\\envs\\20210204\\lib\\site-packages\\matplotlib\\backends\\backend_agg.py:201: RuntimeWarning: Glyph 12467 missing from current font.\n",
      "  font.set_text(s, 0, flags=flags)\n",
      "C:\\Users\\karin\\anaconda3\\envs\\20210204\\lib\\site-packages\\matplotlib\\backends\\backend_agg.py:201: RuntimeWarning: Glyph 12491 missing from current font.\n",
      "  font.set_text(s, 0, flags=flags)\n",
      "C:\\Users\\karin\\anaconda3\\envs\\20210204\\lib\\site-packages\\matplotlib\\backends\\backend_agg.py:201: RuntimeWarning: Glyph 12540 missing from current font.\n",
      "  font.set_text(s, 0, flags=flags)\n",
      "C:\\Users\\karin\\anaconda3\\envs\\20210204\\lib\\site-packages\\matplotlib\\backends\\backend_agg.py:201: RuntimeWarning: Glyph 31689 missing from current font.\n",
      "  font.set_text(s, 0, flags=flags)\n",
      "C:\\Users\\karin\\anaconda3\\envs\\20210204\\lib\\site-packages\\matplotlib\\backends\\backend_agg.py:201: RuntimeWarning: Glyph 24180 missing from current font.\n",
      "  font.set_text(s, 0, flags=flags)\n",
      "C:\\Users\\karin\\anaconda3\\envs\\20210204\\lib\\site-packages\\matplotlib\\backends\\backend_agg.py:201: RuntimeWarning: Glyph 25968 missing from current font.\n",
      "  font.set_text(s, 0, flags=flags)\n"
     ]
    },
    {
     "data": {
      "image/png": "[encoded data removed]",
      "text/plain": [
       "<Figure size 900x900 with 30 Axes>"
      ]
     },
     "metadata": {
      "needs_background": "light"
     },
     "output_type": "display_data"
    }
   ],
   "source": [
    "sns.pairplot(filtered)\n",
    "plt.show()"
   ]
  },
  {
   "cell_type": "code",
   "execution_count": 110,
   "metadata": {
    "scrolled": true
   },
   "outputs": [
    {
     "name": "stderr",
     "output_type": "stream",
     "text": [
      "C:\\Users\\karin\\anaconda3\\envs\\20210204\\lib\\site-packages\\matplotlib\\backends\\backend_agg.py:238: RuntimeWarning: Glyph 36009 missing from current font.\n",
      "  font.set_text(s, 0.0, flags=flags)\n",
      "C:\\Users\\karin\\anaconda3\\envs\\20210204\\lib\\site-packages\\matplotlib\\backends\\backend_agg.py:238: RuntimeWarning: Glyph 22770 missing from current font.\n",
      "  font.set_text(s, 0.0, flags=flags)\n",
      "C:\\Users\\karin\\anaconda3\\envs\\20210204\\lib\\site-packages\\matplotlib\\backends\\backend_agg.py:238: RuntimeWarning: Glyph 20385 missing from current font.\n",
      "  font.set_text(s, 0.0, flags=flags)\n",
      "C:\\Users\\karin\\anaconda3\\envs\\20210204\\lib\\site-packages\\matplotlib\\backends\\backend_agg.py:238: RuntimeWarning: Glyph 26684 missing from current font.\n",
      "  font.set_text(s, 0.0, flags=flags)\n",
      "C:\\Users\\karin\\anaconda3\\envs\\20210204\\lib\\site-packages\\matplotlib\\backends\\backend_agg.py:201: RuntimeWarning: Glyph 36009 missing from current font.\n",
      "  font.set_text(s, 0, flags=flags)\n",
      "C:\\Users\\karin\\anaconda3\\envs\\20210204\\lib\\site-packages\\matplotlib\\backends\\backend_agg.py:201: RuntimeWarning: Glyph 22770 missing from current font.\n",
      "  font.set_text(s, 0, flags=flags)\n",
      "C:\\Users\\karin\\anaconda3\\envs\\20210204\\lib\\site-packages\\matplotlib\\backends\\backend_agg.py:201: RuntimeWarning: Glyph 20385 missing from current font.\n",
      "  font.set_text(s, 0, flags=flags)\n",
      "C:\\Users\\karin\\anaconda3\\envs\\20210204\\lib\\site-packages\\matplotlib\\backends\\backend_agg.py:201: RuntimeWarning: Glyph 26684 missing from current font.\n",
      "  font.set_text(s, 0, flags=flags)\n"
     ]
    },
    {
     "data": {
      "image/png": "[encoded data removed]",
      "text/plain": [
       "<Figure size 432x288 with 1 Axes>"
      ]
     },
     "metadata": {
      "needs_background": "light"
     },
     "output_type": "display_data"
    }
   ],
   "source": [
    "sns.boxplot(x='販売価格', data=filtered)\n",
    "plt.show()"
   ]
  },
  {
   "cell_type": "code",
   "execution_count": 112,
   "metadata": {},
   "outputs": [
    {
     "data": {
      "text/html": [
       "<div>\n",
       "<style scoped>\n",
       "    .dataframe tbody tr th:only-of-type {\n",
       "        vertical-align: middle;\n",
       "    }\n",
       "\n",
       "    .dataframe tbody tr th {\n",
       "        vertical-align: top;\n",
       "    }\n",
       "\n",
       "    .dataframe thead th {\n",
       "        text-align: right;\n",
       "    }\n",
       "</style>\n",
       "<table border=\"1\" class=\"dataframe\">\n",
       "  <thead>\n",
       "    <tr style=\"text-align: right;\">\n",
       "      <th></th>\n",
       "      <th>販売価格</th>\n",
       "      <th>土地面積</th>\n",
       "      <th>建物面積</th>\n",
       "      <th>バルコニー</th>\n",
       "      <th>築年数</th>\n",
       "    </tr>\n",
       "  </thead>\n",
       "  <tbody>\n",
       "    <tr>\n",
       "      <th>count</th>\n",
       "      <td>8.300000e+01</td>\n",
       "      <td>83.000000</td>\n",
       "      <td>83.000000</td>\n",
       "      <td>83.000000</td>\n",
       "      <td>83.000000</td>\n",
       "    </tr>\n",
       "    <tr>\n",
       "      <th>mean</th>\n",
       "      <td>4.881928e+07</td>\n",
       "      <td>247.991446</td>\n",
       "      <td>150.572048</td>\n",
       "      <td>1.618916</td>\n",
       "      <td>32.698795</td>\n",
       "    </tr>\n",
       "    <tr>\n",
       "      <th>std</th>\n",
       "      <td>3.644040e+07</td>\n",
       "      <td>216.925313</td>\n",
       "      <td>76.677458</td>\n",
       "      <td>7.544517</td>\n",
       "      <td>11.340339</td>\n",
       "    </tr>\n",
       "    <tr>\n",
       "      <th>min</th>\n",
       "      <td>7.000000e+06</td>\n",
       "      <td>62.010000</td>\n",
       "      <td>42.230000</td>\n",
       "      <td>0.000000</td>\n",
       "      <td>0.000000</td>\n",
       "    </tr>\n",
       "    <tr>\n",
       "      <th>25%</th>\n",
       "      <td>2.680000e+07</td>\n",
       "      <td>164.500000</td>\n",
       "      <td>95.580000</td>\n",
       "      <td>0.000000</td>\n",
       "      <td>27.000000</td>\n",
       "    </tr>\n",
       "    <tr>\n",
       "      <th>50%</th>\n",
       "      <td>3.480000e+07</td>\n",
       "      <td>225.390000</td>\n",
       "      <td>142.520000</td>\n",
       "      <td>0.000000</td>\n",
       "      <td>33.000000</td>\n",
       "    </tr>\n",
       "    <tr>\n",
       "      <th>75%</th>\n",
       "      <td>5.330000e+07</td>\n",
       "      <td>259.960000</td>\n",
       "      <td>164.370000</td>\n",
       "      <td>0.000000</td>\n",
       "      <td>42.000000</td>\n",
       "    </tr>\n",
       "    <tr>\n",
       "      <th>max</th>\n",
       "      <td>1.830000e+08</td>\n",
       "      <td>1920.360000</td>\n",
       "      <td>500.320000</td>\n",
       "      <td>50.100000</td>\n",
       "      <td>62.000000</td>\n",
       "    </tr>\n",
       "  </tbody>\n",
       "</table>\n",
       "</div>"
      ],
      "text/plain": [
       "               販売価格         土地面積        建物面積      バルコニー        築年数\n",
       "count  8.300000e+01    83.000000   83.000000  83.000000  83.000000\n",
       "mean   4.881928e+07   247.991446  150.572048   1.618916  32.698795\n",
       "std    3.644040e+07   216.925313   76.677458   7.544517  11.340339\n",
       "min    7.000000e+06    62.010000   42.230000   0.000000   0.000000\n",
       "25%    2.680000e+07   164.500000   95.580000   0.000000  27.000000\n",
       "50%    3.480000e+07   225.390000  142.520000   0.000000  33.000000\n",
       "75%    5.330000e+07   259.960000  164.370000   0.000000  42.000000\n",
       "max    1.830000e+08  1920.360000  500.320000  50.100000  62.000000"
      ]
     },
     "execution_count": 112,
     "metadata": {},
     "output_type": "execute_result"
    }
   ],
   "source": [
    "filtered.describe()"
   ]
  },
  {
   "cell_type": "code",
   "execution_count": null,
   "metadata": {},
   "outputs": [],
   "source": []
  }
 ],
 "metadata": {
  "kernelspec": {
   "display_name": "Python 3",
   "language": "python",
   "name": "python3"
  },
  "language_info": {
   "codemirror_mode": {
    "name": "ipython",
    "version": 3
   },
   "file_extension": ".py",
   "mimetype": "text/x-python",
   "name": "python",
   "nbconvert_exporter": "python",
   "pygments_lexer": "ipython3",
   "version": "3.8.5"
  }
 },
 "nbformat": 4,
 "nbformat_minor": 4
}
