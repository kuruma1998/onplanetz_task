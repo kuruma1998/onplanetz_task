{
 "cells": [
  {
   "cell_type": "markdown",
   "metadata": {},
   "source": [
    "# 練習課題1\n",
    "[前提]  \n",
    "見習い期間中のお試しタスクとしての練習課題です。  \n",
    "  \n",
    "[タスク目的]\n",
    "- お試しタスクを解く事で、タスクやプロジェクトに対する理解力を向上\n",
    "- タスクやプロジェクトに対する進め方を学習する事で、新規プロジェクトにアサインされた際に適用出来るようにする事\n",
    "- 構造化データの扱いに慣れる事\n",
    "- スクレイピングをマスターする\n",
    "  \n",
    "[課題]  \n",
    "不動産業者が保有している物件データを活用し、特徴を分析し、可視化せよ  \n",
    "  \n",
    "[アウトプットイメージ]  \n",
    "1. 参考リンクをもとに、SUUMOの中古物件情報(項目は以下）を所得し、加工した状態でCSVで出力\n",
    "2. 加工後の情報に対して、地区や駅、価格など分布図を作成し可視化せよ（可視化についてはいくつか種類あるので、仮説で設定してOK）\n",
    "---- \n",
    "フィールド名  説明  \n",
    "カテゴリ    中古マンション or 中古一戸建て  \n",
    "販売価格    販売価格  \n",
    "所在地   物件所在地  \n",
    "区 区  \n",
    "沿線  物件最寄沿線  \n",
    "最寄駅   物件最寄駅  \n",
    "徒歩（分） 物件から最寄駅までの徒歩時間。バスの場合は物件からバス停までの時間  \n",
    "バス（分） バス乗車時間。バスを使用しない場合は0  \n",
    "土地面積    土地面積。中古マンションは建物面積＝土地面積とする  \n",
    "建物面積    中古一戸建てもしくは中古マンションの建物面積  \n",
    "バルコニー バルコニー面積。中古マンションのみ使用  \n",
    "間取り   物件の間取り  \n",
    "築年数   築年月から計算   \n",
    "\n",
    "----\n",
    "**取得できれば**  \n",
    "向き（日当たり）  \n",
    "駐車場有無  \n",
    "庭有無  \n",
    "周辺環境  \n",
    "\n",
    "-----\n",
    "[コードレビュー]  \n",
    "岩崎くんに依頼  \n",
    "  \n",
    "[期限]  \n",
    "1週間  \n",
    "  \n",
    "[参考リンク]  \n",
    "https://www.gis-py.com/entry/scraping-suumo  \n",
    "https://qiita.com/0yan/items/90800b03cc38e322d920  "
   ]
  },
  {
   "cell_type": "code",
   "execution_count": 1,
   "metadata": {},
   "outputs": [],
   "source": [
    "import requests\n",
    "from bs4 import BeautifulSoup\n",
    "import time\n",
    "import os\n",
    "import datetime\n",
    "import re\n",
    "import csv\n",
    "import pandas as pd\n",
    "import openpyxl\n",
    "import urllib.request"
   ]
  },
  {
   "cell_type": "markdown",
   "metadata": {},
   "source": [
    "## スクレイピング"
   ]
  },
  {
   "cell_type": "code",
   "execution_count": 2,
   "metadata": {},
   "outputs": [],
   "source": [
    "url_list = [\"https://suumo.jp/jj/bukken/ichiran/JJ010FJ001/?ar=030&bs=021&ta=14\"  \\\n",
    "            \"&jspIdFlg=patternShikugun&sc=14101&sc=14102&sc=14103&sc=14104&sc=14105&sc=14106\"  \\\n",
    "            \"&sc=14107&sc=14108&sc=14109&sc=14110&sc=14111&sc=14112&sc=14113&sc=14114\"  \\\n",
    "            \"&sc=14115&sc=14116&sc=14117&sc=14118&kb=1&kt=9999999&tb=0&tt=9999999&hb=0\"  \\\n",
    "            \"&ht=9999999&ekTjCd=&ekTjNm=&tj=0&cnb=0&cn=9999999&srch_navi=1&pn={}\",\n",
    "\n",
    "            \"https://suumo.jp/jj/bukken/ichiran/JJ010FJ001/?ar=030&bs=011&ta=14\" \\\n",
    "            \"&jspIdFlg=patternShikugun&sc=14101&sc=14102&sc=14103&sc=14104&sc=14105&sc=14106\" \\\n",
    "            \"&sc=14107&sc=14108&sc=14109&sc=14110&sc=14111&sc=14112&sc=14113&sc=14114\" \\\n",
    "            \"&sc=14115&sc=14116&sc=14117&sc=14118&kb=1&kt=9999999&mb=0&mt=9999999\" \\\n",
    "            \"&ekTjCd=&ekTjNm=&tj=0&cnb=0&cn=9999999&srch_navi=1&pn={}\"]"
   ]
  },
  {
   "cell_type": "code",
   "execution_count": 3,
   "metadata": {},
   "outputs": [],
   "source": [
    "# 収集するデータのカラム\n",
    "cols = [\"カテゴリ\", \"販売価格\", \"所在地\", \"区\", \"沿線\", \"最寄駅\", \"徒歩（分）\", \"バス（分）\",\n",
    "        \"土地面積\", \"建物面積\", \"バルコニー\", \"間取り\", \"築年数\"]"
   ]
  },
  {
   "cell_type": "code",
   "execution_count": 4,
   "metadata": {},
   "outputs": [],
   "source": [
    "def identify_floor_plan(floor_plan):\n",
    "    # 間取りの種類が多すぎるのでまとめる\n",
    "    if floor_plan.find(\"ワンルーム\") > -1:\n",
    "        floor_plan = \"1K\"\n",
    "    if floor_plan.find(\"+\") > -1:\n",
    "        floor_plan = floor_plan[:floor_plan.find(\"+\")]\n",
    "    if floor_plan.find(\"LK\") > -1:\n",
    "        floor_plan = floor_plan[0:1] + \"LDK\"\n",
    "    if floor_plan.find(\"LL\") > -1 or \\\n",
    "       floor_plan.find(\"DD\") > -1 or \\\n",
    "       floor_plan.find(\"KK\") > -1:\n",
    "        floor_plan = floor_plan = floor_plan[0:1] + \"LDK\"\n",
    "\n",
    "    return floor_plan"
   ]
  },
  {
   "cell_type": "code",
   "execution_count": 25,
   "metadata": {},
   "outputs": [],
   "source": [
    "#失敗\n",
    "def convert_price(price):\n",
    "    #「〇万円※権利金含む」の処理\n",
    "    if price.find(\"※\") > -1:\n",
    "        price = price[:price.find(\"※\")]\n",
    "    \n",
    "    #「○○万円～○○万円」の処理\n",
    "    if price.find(\"～\") > -1:\n",
    "        price = price[price.find(\"～\") + 1:]\n",
    "        #「億」が含まれる場合\n",
    "        if price.find(\"億\") > -1:\n",
    "            #「1億円」ジャストのような場合の処理\n",
    "            if price.find(\"万\") == -1:\n",
    "                price = int(price[:price.find(\"億\")]) * 100000000\n",
    "            else:\n",
    "                oku = int(price[:price.find(\"億\")]) * 100000000\n",
    "                price = oku + int(price[price.find(\"億\") + 1:-2]) * 10000\n",
    "        #「億」が含まれない場合\n",
    "        else:\n",
    "            price = int(price[:price.find(\"万円\")]) * 10000\n",
    "            \n",
    "    else:#数値に変換\n",
    "        #「億」が含まれる場合\n",
    "        if price.find(\"億\") > -1:\n",
    "            #「1億円」ジャストのような場合の処理\n",
    "            if price.find(\"万\") == -1:\n",
    "                price = int(price[:price.find(\"億\")]) * 100000000\n",
    "            else:\n",
    "                oku = int(price[:price.find(\"億\")]) * 100000000\n",
    "                price = oku + int(price[price.find(\"億\") + 1:-2]) * 10000\n",
    "         #「億」が含まれない場合\n",
    "        else:\n",
    "            price = int(price[:-2]) * 10000\n",
    "            \n",
    "    return price"
   ]
  },
  {
   "cell_type": "code",
   "execution_count": 5,
   "metadata": {},
   "outputs": [],
   "source": [
    "#訂正版\n",
    "def convert_price(price):\n",
    "    #「〇万円※権利金含む」の処理\n",
    "    if price.find(\"※\") > -1:\n",
    "        price = price[:price.find(\"※\")]\n",
    "    \n",
    "    #「○○万円・○○万円」の処理\n",
    "    if price.find(\"・\") > -1:\n",
    "        price = price[:price.find(\"・\")]\n",
    "    \n",
    "    #「○○万円～○○万円」の処理\n",
    "    if price.find(\"～\") > -1:\n",
    "        price = price[price.find(\"～\") + 1:]\n",
    "        #「億」が含まれる場合\n",
    "        if price.find(\"億\") > -1:\n",
    "            #「1億円」ジャストのような場合の処理\n",
    "            if price.find(\"万\") == -1:\n",
    "                price = int(price[:price.find(\"億\")]) * 100000000\n",
    "            else:\n",
    "                oku = int(price[:price.find(\"億\")]) * 100000000\n",
    "                price = oku + int(price[price.find(\"億\") + 1:-2]) * 10000\n",
    "        #「億」が含まれない場合\n",
    "        else:\n",
    "            price = int(price[:price.find(\"万円\")]) * 10000\n",
    "            \n",
    "    else:#数値に変換\n",
    "        #「億」が含まれる場合\n",
    "        if price.find(\"億\") > -1:\n",
    "            #「1億円」ジャストのような場合の処理\n",
    "            if price.find(\"万\") == -1:\n",
    "                price = int(price[:price.find(\"億\")]) * 100000000\n",
    "            else:\n",
    "                oku = int(price[:price.find(\"億\")]) * 100000000\n",
    "                price = oku + int(price[price.find(\"億\") + 1:-2]) * 10000\n",
    "        #「億」が含まれない場合\n",
    "        else:\n",
    "            if price.find(\"万円\") > -1:\n",
    "                price = int(price[:-2]) * 10000\n",
    "            else:\n",
    "                man = int(price[:price.find(\"万\")]) * 10000\n",
    "                price = man + int(price[price.find(\"万\") + 1:-1])\n",
    "            \n",
    "    return price"
   ]
  },
  {
   "cell_type": "code",
   "execution_count": 6,
   "metadata": {},
   "outputs": [],
   "source": [
    "def remove_brackets(data):\n",
    "    # ○○～○○の処理\n",
    "    if data.find(\"～\") > -1:\n",
    "        data = data[data.find(\"～\") + 1:]\n",
    "\n",
    "    # m2以降を除去\n",
    "    if data.find(\"m2\") > -1:\n",
    "        data = data[:data.find(\"m\")]\n",
    "    if data.find(\"㎡\") > -1:\n",
    "        data = data[:data.find(\"㎡\")]\n",
    "\n",
    "    # （）を除去\n",
    "    if data.find(\"（\") > -1:\n",
    "        data = data[:data.find(\"（\")]\n",
    "\n",
    "    return data"
   ]
  },
  {
   "cell_type": "code",
   "execution_count": 7,
   "metadata": {},
   "outputs": [],
   "source": [
    "def get_line_station(line_station):\n",
    "\n",
    "    # ＪＲをJRに変換\n",
    "    if line_station.find(\"ＪＲ\") > -1:\n",
    "        line_station = line_station.replace(\"ＪＲ\", \"JR\")\n",
    "\n",
    "    # バスと徒歩の時間を取得\n",
    "    if line_station.find(\"バス\") > -1:\n",
    "        bus_time = line_station[line_station.find(\"バス\") + 2 : line_station.find(\"分\")]\n",
    "\n",
    "        # バスの場合は徒歩時間＝(バス時間×10) + バス停までの徒歩時間とする\n",
    "        walk_time = line_station[line_station.find(\"停歩\") + 2 : line_station.rfind(\"分\")]\n",
    "\n",
    "    else:\n",
    "        bus_time = 0\n",
    "        walk_time = line_station[line_station.find(\"徒歩\") + 2 : line_station.rfind(\"分\")]\n",
    "\n",
    "    # 沿線と駅を取得\n",
    "    line = line_station[ : line_station.find(\"「\") ]\n",
    "\n",
    "    if line.find(\"湘南新宿ライン高海\") > -1 or line.find(\"湘南新宿ライン宇須\") > -1:\n",
    "        line = \"湘南新宿ライン\"\n",
    "\n",
    "    station = line_station[line_station.find(\"「\") + 1 : line_station.find(\"」\")]\n",
    "\n",
    "    return line, station, bus_time, walk_time"
   ]
  },
  {
   "cell_type": "code",
   "execution_count": 8,
   "metadata": {},
   "outputs": [],
   "source": [
    "def get_page_count(hit_count):\n",
    "\n",
    "    # データ整形\n",
    "    hit_count = hit_count.strip()\n",
    "    hit_count = hit_count.replace(\",\", \"\")\n",
    "    hit_count = hit_count.replace(\"件\", \"\")\n",
    "\n",
    "    # ページ数計算\n",
    "    page_count = divmod(int(hit_count), 30)\n",
    "    if page_count[1] == 0:\n",
    "        page_count = page_count[0]\n",
    "    else:\n",
    "        page_count = page_count[0] + 1\n",
    "\n",
    "    return page_count"
   ]
  },
  {
   "cell_type": "code",
   "execution_count": 9,
   "metadata": {},
   "outputs": [],
   "source": [
    "def main():\n",
    "\n",
    "    df = pd.DataFrame(index=[], columns=cols)\n",
    "\n",
    "    for i, url_base in enumerate(url_list):\n",
    "        # 対象urlのデータを取得\n",
    "        url = url_base.format(1)\n",
    "        html = urllib.request.urlopen(url).read()\n",
    "        soup = BeautifulSoup(html)\n",
    "        hit_count = soup.find(\"div\", class_=\"pagination_set-hit\").text\n",
    "\n",
    "        # 各urlのページ数計算\n",
    "        page_count = get_page_count(hit_count)\n",
    "\n",
    "        data = {}\n",
    "        for page in range(1, page_count + 1):\n",
    "\n",
    "            # ページごとにリクエスト\n",
    "            if page != 1:\n",
    "                url = url_base.format(page)\n",
    "                html = urllib.request.urlopen(url).read()\n",
    "                soup = BeautifulSoup(html)\n",
    "\n",
    "            for s in soup.findAll('div', 'dottable-line'):\n",
    "\n",
    "                if i == 0:\n",
    "                    data[\"カテゴリ\"] = \"中古一戸建て\"\n",
    "\n",
    "                else:\n",
    "                    data[\"カテゴリ\"] = \"中古マンション\"\n",
    "\n",
    "                if len(s.findAll('dt')) == 1:\n",
    "                    if s.find('dt').text == \"販売価格\":\n",
    "\n",
    "                        # ○○万円を数字に変換\n",
    "                        price = convert_price(s.find(\"span\").text)\n",
    "                        data[\"販売価格\"] = price\n",
    "\n",
    "                if len(s.findAll('dt')) == 2:\n",
    "\n",
    "                    if s.findAll('dt')[0].text == \"所在地\":\n",
    "                        area = s.findAll(\"dd\")[0].text\n",
    "                        data[\"所在地\"] = area\n",
    "                        data[\"区\"] = area[area.find(\"市\") + 1:area.find(\"区\") + 1]\n",
    "\n",
    "                    if s.findAll('dt')[1].text == \"沿線・駅\":\n",
    "\n",
    "                        # データ加工\n",
    "                        line, station, bus_time, \\\n",
    "                            walk_time = get_line_station(s.findAll(\"dd\")[1].text)\n",
    "\n",
    "                        data[\"沿線\"] = line\n",
    "                        data[\"最寄駅\"] = station\n",
    "                        data[\"徒歩（分）\"] = walk_time\n",
    "                        data[\"バス（分）\"] = bus_time\n",
    "\n",
    "                if s.find('table', class_ = 'dottable-fix') != None:\n",
    "                    if s.findAll('dt')[0].text == \"土地面積\":\n",
    "\n",
    "                        land_area = remove_brackets(s.findAll(\"dd\")[0].text)\n",
    "                        data[\"土地面積\"] = land_area\n",
    "\n",
    "                    if s.findAll('dt')[1].text == \"間取り\":\n",
    "\n",
    "                        floor_plan = remove_brackets(s.findAll(\"dd\")[1].text)\n",
    "\n",
    "                        # 間取りをまとめる\n",
    "                        floor_plan = identify_floor_plan(floor_plan)\n",
    "                        data[\"間取り\"] = floor_plan\n",
    "\n",
    "                    if s.findAll('dt')[0].text == \"建物面積\":\n",
    "\n",
    "                        house_area = remove_brackets(s.findAll(\"dd\")[0].text)\n",
    "                        data[\"建物面積\"] = house_area\n",
    "\n",
    "                    if s.findAll('dt')[0].text == \"専有面積\":\n",
    "\n",
    "                        house_area = remove_brackets(s.findAll(\"dd\")[0].text)\n",
    "                        data[\"建物面積\"] = house_area\n",
    "\n",
    "                        # 中古マンションは建物面積＝土地面積とする\n",
    "                        data[\"土地面積\"] = house_area\n",
    "\n",
    "                    if s.findAll('dt')[0].text == \"バルコニー\":\n",
    "\n",
    "                        if s.findAll(\"dd\")[0].text.find(\"-\") > -1:\n",
    "                            data[\"バルコニー\"] = 0\n",
    "                        else:\n",
    "                            balcony_area = remove_brackets(s.findAll(\"dd\")[0].text)\n",
    "                            data[\"バルコニー\"] = balcony_area\n",
    "\n",
    "                    else: # 一戸建ての場合は0\n",
    "                        data[\"バルコニー\"] = 0\n",
    "\n",
    "                    if s.findAll('dt')[1].text == \"築年月\":\n",
    "\n",
    "                        # 築年数を算出\n",
    "                        built_year = 2021 - int(s.findAll(\"dd\")[1].text[:4])\n",
    "                        data[\"築年数\"] = built_year\n",
    "\n",
    "                # データフレームに1物件ずつデータを格納\n",
    "                if len(data) == 13:\n",
    "                    df = df.append(data, ignore_index=True)\n",
    "                    data = {}\n",
    "\n",
    "    # CSV 出力\n",
    "    df.to_csv(\"sample.csv\", index=False, encoding = \"utf-8\")\n",
    "\n",
    "if __name__ == '__main__':\n",
    "    main()"
   ]
  },
  {
   "cell_type": "markdown",
   "metadata": {},
   "source": [
    "## 可視化"
   ]
  },
  {
   "cell_type": "code",
   "execution_count": 10,
   "metadata": {},
   "outputs": [],
   "source": [
    "import matplotlib.pyplot as plt\n",
    "import seaborn as sns\n",
    "%matplotlib inline"
   ]
  },
  {
   "cell_type": "code",
   "execution_count": 11,
   "metadata": {},
   "outputs": [],
   "source": [
    "df = pd.read_csv(\"sample.csv\")\n",
    "df = df.astype({'建物面積': 'float64'})"
   ]
  },
  {
   "cell_type": "code",
   "execution_count": 12,
   "metadata": {
    "collapsed": true
   },
   "outputs": [
    {
     "data": {
      "text/plain": [
       "カテゴリ     0\n",
       "販売価格     0\n",
       "所在地      0\n",
       "区        0\n",
       "沿線       0\n",
       "最寄駅      0\n",
       "徒歩（分）    0\n",
       "バス（分）    0\n",
       "土地面積     0\n",
       "建物面積     0\n",
       "バルコニー    0\n",
       "間取り      0\n",
       "築年数      0\n",
       "dtype: int64"
      ]
     },
     "execution_count": 12,
     "metadata": {},
     "output_type": "execute_result"
    }
   ],
   "source": [
    "#欠損値が無いか確認\n",
    "df.isnull().sum()"
   ]
  },
  {
   "cell_type": "markdown",
   "metadata": {},
   "source": [
    "**ヴァイオリンプロット**"
   ]
  },
  {
   "cell_type": "code",
   "execution_count": 23,
   "metadata": {},
   "outputs": [
    {
     "data": {
      "image/png": "[encoded data removed]",
      "text/plain": [
       "<Figure size 432x288 with 1 Axes>"
      ]
     },
     "metadata": {
      "needs_background": "light"
     },
     "output_type": "display_data"
    }
   ],
   "source": [
    "#小田急沿線と販売価格\n",
    "x1 = df[df[\"沿線\"] == '小田急江ノ島線'][\"販売価格\"].values.tolist()\n",
    "x2 = df[df[\"沿線\"] == '小田急線'][\"販売価格\"].values.tolist()\n",
    "\n",
    "fig = plt.figure()\n",
    "ax = fig.add_subplot()\n",
    "ax.violinplot([x1, x2])\n",
    "ax.set_xticks([1, 2])\n",
    "ax.set_xticklabels(['小田急江ノ島線', '小田急線'], fontname=\"MS Gothic\")\n",
    "ax.set_xlabel(\"路線\", fontname=\"MS Gothic\")\n",
    "ax.set_ylabel('販売価格', fontname=\"MS Gothic\")\n",
    "plt.show()"
   ]
  },
  {
   "cell_type": "code",
   "execution_count": 24,
   "metadata": {},
   "outputs": [
    {
     "data": {
      "image/png": "[encoded data removed]",
      "text/plain": [
       "<Figure size 432x288 with 1 Axes>"
      ]
     },
     "metadata": {
      "needs_background": "light"
     },
     "output_type": "display_data"
    }
   ],
   "source": [
    "#小田急沿線と築年数\n",
    "x1 = df[df[\"沿線\"] == '小田急江ノ島線'][\"築年数\"].values.tolist()\n",
    "x2 = df[df[\"沿線\"] == '小田急線'][\"築年数\"].values.tolist()\n",
    "\n",
    "fig = plt.figure()\n",
    "ax = fig.add_subplot()\n",
    "ax.violinplot([x1, x2])\n",
    "ax.set_xticks([1, 2])\n",
    "ax.set_xticklabels(['小田急江ノ島線', '小田急線'], fontname=\"MS Gothic\")\n",
    "ax.set_xlabel(\"路線\", fontname=\"MS Gothic\")\n",
    "ax.set_ylabel('築年数', fontname=\"MS Gothic\")\n",
    "plt.show()"
   ]
  },
  {
   "cell_type": "code",
   "execution_count": 25,
   "metadata": {},
   "outputs": [
    {
     "data": {
      "image/png": "[encoded data removed]",
      "text/plain": [
       "<Figure size 432x288 with 1 Axes>"
      ]
     },
     "metadata": {
      "needs_background": "light"
     },
     "output_type": "display_data"
    }
   ],
   "source": [
    "#小田急沿線と土地面積\n",
    "x1 = df[df[\"沿線\"] == '小田急江ノ島線'][\"土地面積\"].values.tolist()\n",
    "x2 = df[df[\"沿線\"] == '小田急線'][\"土地面積\"].values.tolist()\n",
    "\n",
    "fig = plt.figure()\n",
    "ax = fig.add_subplot()\n",
    "ax.violinplot([x1, x2])\n",
    "ax.set_xticks([1, 2])\n",
    "ax.set_xticklabels(['小田急江ノ島線', '小田急線'], fontname=\"MS Gothic\")\n",
    "ax.set_xlabel(\"路線\", fontname=\"MS Gothic\")\n",
    "ax.set_ylabel('土地面積', fontname=\"MS Gothic\")\n",
    "plt.show()"
   ]
  },
  {
   "cell_type": "code",
   "execution_count": 26,
   "metadata": {},
   "outputs": [
    {
     "data": {
      "image/png": "[encoded data removed]",
      "text/plain": [
       "<Figure size 432x288 with 1 Axes>"
      ]
     },
     "metadata": {
      "needs_background": "light"
     },
     "output_type": "display_data"
    }
   ],
   "source": [
    "#小田急沿線と建物面積\n",
    "x1 = df[df[\"沿線\"] == '小田急江ノ島線'][\"建物面積\"].values.tolist()\n",
    "x2 = df[df[\"沿線\"] == '小田急線'][\"建物面積\"].values.tolist()\n",
    "\n",
    "fig = plt.figure()\n",
    "ax = fig.add_subplot()\n",
    "ax.violinplot([x1, x2])\n",
    "ax.set_xticks([1, 2])\n",
    "ax.set_xticklabels(['小田急江ノ島線', '小田急線'], fontname=\"MS Gothic\")\n",
    "ax.set_xlabel(\"路線\", fontname=\"MS Gothic\")\n",
    "ax.set_ylabel('建物面積', fontname=\"MS Gothic\")\n",
    "plt.show()"
   ]
  },
  {
   "cell_type": "markdown",
   "metadata": {},
   "source": [
    "**2つのヴァイオリンプロットから分かること**  \n",
    "- 小田急江ノ島線沿線の方が築年数が大きい、販売価格が安い、土地面積が小さい 、建物面積が小さい \n",
    "- 小田急線沿線の方が築年数は小さい、販売価格が高い、土地面積が大きい、建物面積が大きい  \n",
    "小田急江ノ島線沿いには中古一戸建て物件が多く、小田急線沿いには中古マンション物件が多いといえそう。\n",
    "\n",
    "ということで、中古一戸建てと中古マンションを比較してみる"
   ]
  },
  {
   "cell_type": "code",
   "execution_count": 37,
   "metadata": {},
   "outputs": [],
   "source": [
    "route = ['小田急江ノ島線', '小田急線']\n",
    "category = [\"中古一戸建て\", \"中古マンション\"]\n",
    "filtered = df[df[\"沿線\"].isin(route) & df[\"カテゴリ\"].isin(category)]"
   ]
  },
  {
   "cell_type": "code",
   "execution_count": 39,
   "metadata": {
    "collapsed": true
   },
   "outputs": [
    {
     "name": "stderr",
     "output_type": "stream",
     "text": [
      "C:\\Users\\karin\\anaconda3\\lib\\site-packages\\matplotlib\\backends\\backend_agg.py:238: RuntimeWarning: Glyph 23567 missing from current font.\n",
      "  font.set_text(s, 0.0, flags=flags)\n",
      "C:\\Users\\karin\\anaconda3\\lib\\site-packages\\matplotlib\\backends\\backend_agg.py:238: RuntimeWarning: Glyph 30000 missing from current font.\n",
      "  font.set_text(s, 0.0, flags=flags)\n",
      "C:\\Users\\karin\\anaconda3\\lib\\site-packages\\matplotlib\\backends\\backend_agg.py:238: RuntimeWarning: Glyph 24613 missing from current font.\n",
      "  font.set_text(s, 0.0, flags=flags)\n",
      "C:\\Users\\karin\\anaconda3\\lib\\site-packages\\matplotlib\\backends\\backend_agg.py:238: RuntimeWarning: Glyph 32218 missing from current font.\n",
      "  font.set_text(s, 0.0, flags=flags)\n",
      "C:\\Users\\karin\\anaconda3\\lib\\site-packages\\matplotlib\\backends\\backend_agg.py:238: RuntimeWarning: Glyph 27743 missing from current font.\n",
      "  font.set_text(s, 0.0, flags=flags)\n",
      "C:\\Users\\karin\\anaconda3\\lib\\site-packages\\matplotlib\\backends\\backend_agg.py:238: RuntimeWarning: Glyph 12494 missing from current font.\n",
      "  font.set_text(s, 0.0, flags=flags)\n",
      "C:\\Users\\karin\\anaconda3\\lib\\site-packages\\matplotlib\\backends\\backend_agg.py:238: RuntimeWarning: Glyph 23798 missing from current font.\n",
      "  font.set_text(s, 0.0, flags=flags)\n",
      "C:\\Users\\karin\\anaconda3\\lib\\site-packages\\matplotlib\\backends\\backend_agg.py:238: RuntimeWarning: Glyph 20013 missing from current font.\n",
      "  font.set_text(s, 0.0, flags=flags)\n",
      "C:\\Users\\karin\\anaconda3\\lib\\site-packages\\matplotlib\\backends\\backend_agg.py:238: RuntimeWarning: Glyph 21476 missing from current font.\n",
      "  font.set_text(s, 0.0, flags=flags)\n",
      "C:\\Users\\karin\\anaconda3\\lib\\site-packages\\matplotlib\\backends\\backend_agg.py:238: RuntimeWarning: Glyph 19968 missing from current font.\n",
      "  font.set_text(s, 0.0, flags=flags)\n",
      "C:\\Users\\karin\\anaconda3\\lib\\site-packages\\matplotlib\\backends\\backend_agg.py:238: RuntimeWarning: Glyph 25144 missing from current font.\n",
      "  font.set_text(s, 0.0, flags=flags)\n",
      "C:\\Users\\karin\\anaconda3\\lib\\site-packages\\matplotlib\\backends\\backend_agg.py:238: RuntimeWarning: Glyph 24314 missing from current font.\n",
      "  font.set_text(s, 0.0, flags=flags)\n",
      "C:\\Users\\karin\\anaconda3\\lib\\site-packages\\matplotlib\\backends\\backend_agg.py:238: RuntimeWarning: Glyph 12390 missing from current font.\n",
      "  font.set_text(s, 0.0, flags=flags)\n",
      "C:\\Users\\karin\\anaconda3\\lib\\site-packages\\matplotlib\\backends\\backend_agg.py:238: RuntimeWarning: Glyph 12510 missing from current font.\n",
      "  font.set_text(s, 0.0, flags=flags)\n",
      "C:\\Users\\karin\\anaconda3\\lib\\site-packages\\matplotlib\\backends\\backend_agg.py:238: RuntimeWarning: Glyph 12531 missing from current font.\n",
      "  font.set_text(s, 0.0, flags=flags)\n",
      "C:\\Users\\karin\\anaconda3\\lib\\site-packages\\matplotlib\\backends\\backend_agg.py:238: RuntimeWarning: Glyph 12471 missing from current font.\n",
      "  font.set_text(s, 0.0, flags=flags)\n",
      "C:\\Users\\karin\\anaconda3\\lib\\site-packages\\matplotlib\\backends\\backend_agg.py:238: RuntimeWarning: Glyph 12519 missing from current font.\n",
      "  font.set_text(s, 0.0, flags=flags)\n",
      "C:\\Users\\karin\\anaconda3\\lib\\site-packages\\seaborn\\_decorators.py:36: FutureWarning: Pass the following variable as a keyword arg: x. From version 0.12, the only valid positional argument will be `data`, and passing other arguments without an explicit keyword will result in an error or misinterpretation.\n",
      "  warnings.warn(\n"
     ]
    },
    {
     "ename": "ValueError",
     "evalue": "If using all scalar values, you must pass an index",
     "output_type": "error",
     "traceback": [
      "\u001b[1;31m---------------------------------------------------------------------------\u001b[0m",
      "\u001b[1;31mValueError\u001b[0m                                Traceback (most recent call last)",
      "\u001b[1;32m<ipython-input-39-c5982b4bd43f>\u001b[0m in \u001b[0;36m<module>\u001b[1;34m\u001b[0m\n\u001b[0;32m      1\u001b[0m \u001b[0msns\u001b[0m\u001b[1;33m.\u001b[0m\u001b[0mcatplot\u001b[0m\u001b[1;33m(\u001b[0m\u001b[0mx\u001b[0m\u001b[1;33m=\u001b[0m\u001b[1;34m\"沿線\"\u001b[0m\u001b[1;33m,\u001b[0m \u001b[0my\u001b[0m\u001b[1;33m=\u001b[0m\u001b[1;34m\"カテゴリ\"\u001b[0m\u001b[1;33m,\u001b[0m \u001b[0mdata\u001b[0m\u001b[1;33m=\u001b[0m\u001b[0mfiltered\u001b[0m\u001b[1;33m)\u001b[0m\u001b[1;33m\u001b[0m\u001b[1;33m\u001b[0m\u001b[0m\n\u001b[1;32m----> 2\u001b[1;33m \u001b[0msns\u001b[0m\u001b[1;33m.\u001b[0m\u001b[0mscatterplot\u001b[0m\u001b[1;33m(\u001b[0m\u001b[0mfiltered\u001b[0m\u001b[1;33m)\u001b[0m\u001b[1;33m\u001b[0m\u001b[1;33m\u001b[0m\u001b[0m\n\u001b[0m\u001b[0;32m      3\u001b[0m \u001b[0mplt\u001b[0m\u001b[1;33m.\u001b[0m\u001b[0mshow\u001b[0m\u001b[1;33m(\u001b[0m\u001b[1;33m)\u001b[0m\u001b[1;33m\u001b[0m\u001b[1;33m\u001b[0m\u001b[0m\n",
      "\u001b[1;32m~\\anaconda3\\lib\\site-packages\\seaborn\\_decorators.py\u001b[0m in \u001b[0;36minner_f\u001b[1;34m(*args, **kwargs)\u001b[0m\n\u001b[0;32m     44\u001b[0m             )\n\u001b[0;32m     45\u001b[0m         \u001b[0mkwargs\u001b[0m\u001b[1;33m.\u001b[0m\u001b[0mupdate\u001b[0m\u001b[1;33m(\u001b[0m\u001b[1;33m{\u001b[0m\u001b[0mk\u001b[0m\u001b[1;33m:\u001b[0m \u001b[0marg\u001b[0m \u001b[1;32mfor\u001b[0m \u001b[0mk\u001b[0m\u001b[1;33m,\u001b[0m \u001b[0marg\u001b[0m \u001b[1;32min\u001b[0m \u001b[0mzip\u001b[0m\u001b[1;33m(\u001b[0m\u001b[0msig\u001b[0m\u001b[1;33m.\u001b[0m\u001b[0mparameters\u001b[0m\u001b[1;33m,\u001b[0m \u001b[0margs\u001b[0m\u001b[1;33m)\u001b[0m\u001b[1;33m}\u001b[0m\u001b[1;33m)\u001b[0m\u001b[1;33m\u001b[0m\u001b[1;33m\u001b[0m\u001b[0m\n\u001b[1;32m---> 46\u001b[1;33m         \u001b[1;32mreturn\u001b[0m \u001b[0mf\u001b[0m\u001b[1;33m(\u001b[0m\u001b[1;33m**\u001b[0m\u001b[0mkwargs\u001b[0m\u001b[1;33m)\u001b[0m\u001b[1;33m\u001b[0m\u001b[1;33m\u001b[0m\u001b[0m\n\u001b[0m\u001b[0;32m     47\u001b[0m     \u001b[1;32mreturn\u001b[0m \u001b[0minner_f\u001b[0m\u001b[1;33m\u001b[0m\u001b[1;33m\u001b[0m\u001b[0m\n\u001b[0;32m     48\u001b[0m \u001b[1;33m\u001b[0m\u001b[0m\n",
      "\u001b[1;32m~\\anaconda3\\lib\\site-packages\\seaborn\\relational.py\u001b[0m in \u001b[0;36mscatterplot\u001b[1;34m(x, y, hue, style, size, data, palette, hue_order, hue_norm, sizes, size_order, size_norm, markers, style_order, x_bins, y_bins, units, estimator, ci, n_boot, alpha, x_jitter, y_jitter, legend, ax, **kwargs)\u001b[0m\n\u001b[0;32m    799\u001b[0m \u001b[1;33m\u001b[0m\u001b[0m\n\u001b[0;32m    800\u001b[0m     \u001b[0mvariables\u001b[0m \u001b[1;33m=\u001b[0m \u001b[0m_ScatterPlotter\u001b[0m\u001b[1;33m.\u001b[0m\u001b[0mget_semantics\u001b[0m\u001b[1;33m(\u001b[0m\u001b[0mlocals\u001b[0m\u001b[1;33m(\u001b[0m\u001b[1;33m)\u001b[0m\u001b[1;33m)\u001b[0m\u001b[1;33m\u001b[0m\u001b[1;33m\u001b[0m\u001b[0m\n\u001b[1;32m--> 801\u001b[1;33m     p = _ScatterPlotter(\n\u001b[0m\u001b[0;32m    802\u001b[0m         \u001b[0mdata\u001b[0m\u001b[1;33m=\u001b[0m\u001b[0mdata\u001b[0m\u001b[1;33m,\u001b[0m \u001b[0mvariables\u001b[0m\u001b[1;33m=\u001b[0m\u001b[0mvariables\u001b[0m\u001b[1;33m,\u001b[0m\u001b[1;33m\u001b[0m\u001b[1;33m\u001b[0m\u001b[0m\n\u001b[0;32m    803\u001b[0m         \u001b[0mx_bins\u001b[0m\u001b[1;33m=\u001b[0m\u001b[0mx_bins\u001b[0m\u001b[1;33m,\u001b[0m \u001b[0my_bins\u001b[0m\u001b[1;33m=\u001b[0m\u001b[0my_bins\u001b[0m\u001b[1;33m,\u001b[0m\u001b[1;33m\u001b[0m\u001b[1;33m\u001b[0m\u001b[0m\n",
      "\u001b[1;32m~\\anaconda3\\lib\\site-packages\\seaborn\\relational.py\u001b[0m in \u001b[0;36m__init__\u001b[1;34m(self, data, variables, x_bins, y_bins, estimator, ci, n_boot, alpha, x_jitter, y_jitter, legend)\u001b[0m\n\u001b[0;32m    585\u001b[0m         )\n\u001b[0;32m    586\u001b[0m \u001b[1;33m\u001b[0m\u001b[0m\n\u001b[1;32m--> 587\u001b[1;33m         \u001b[0msuper\u001b[0m\u001b[1;33m(\u001b[0m\u001b[1;33m)\u001b[0m\u001b[1;33m.\u001b[0m\u001b[0m__init__\u001b[0m\u001b[1;33m(\u001b[0m\u001b[0mdata\u001b[0m\u001b[1;33m=\u001b[0m\u001b[0mdata\u001b[0m\u001b[1;33m,\u001b[0m \u001b[0mvariables\u001b[0m\u001b[1;33m=\u001b[0m\u001b[0mvariables\u001b[0m\u001b[1;33m)\u001b[0m\u001b[1;33m\u001b[0m\u001b[1;33m\u001b[0m\u001b[0m\n\u001b[0m\u001b[0;32m    588\u001b[0m \u001b[1;33m\u001b[0m\u001b[0m\n\u001b[0;32m    589\u001b[0m         \u001b[0mself\u001b[0m\u001b[1;33m.\u001b[0m\u001b[0malpha\u001b[0m \u001b[1;33m=\u001b[0m \u001b[0malpha\u001b[0m\u001b[1;33m\u001b[0m\u001b[1;33m\u001b[0m\u001b[0m\n",
      "\u001b[1;32m~\\anaconda3\\lib\\site-packages\\seaborn\\_core.py\u001b[0m in \u001b[0;36m__init__\u001b[1;34m(self, data, variables)\u001b[0m\n\u001b[0;32m    602\u001b[0m     \u001b[1;32mdef\u001b[0m \u001b[0m__init__\u001b[0m\u001b[1;33m(\u001b[0m\u001b[0mself\u001b[0m\u001b[1;33m,\u001b[0m \u001b[0mdata\u001b[0m\u001b[1;33m=\u001b[0m\u001b[1;32mNone\u001b[0m\u001b[1;33m,\u001b[0m \u001b[0mvariables\u001b[0m\u001b[1;33m=\u001b[0m\u001b[1;33m{\u001b[0m\u001b[1;33m}\u001b[0m\u001b[1;33m)\u001b[0m\u001b[1;33m:\u001b[0m\u001b[1;33m\u001b[0m\u001b[1;33m\u001b[0m\u001b[0m\n\u001b[0;32m    603\u001b[0m \u001b[1;33m\u001b[0m\u001b[0m\n\u001b[1;32m--> 604\u001b[1;33m         \u001b[0mself\u001b[0m\u001b[1;33m.\u001b[0m\u001b[0massign_variables\u001b[0m\u001b[1;33m(\u001b[0m\u001b[0mdata\u001b[0m\u001b[1;33m,\u001b[0m \u001b[0mvariables\u001b[0m\u001b[1;33m)\u001b[0m\u001b[1;33m\u001b[0m\u001b[1;33m\u001b[0m\u001b[0m\n\u001b[0m\u001b[0;32m    605\u001b[0m \u001b[1;33m\u001b[0m\u001b[0m\n\u001b[0;32m    606\u001b[0m         \u001b[1;32mfor\u001b[0m \u001b[0mvar\u001b[0m\u001b[1;33m,\u001b[0m \u001b[0mcls\u001b[0m \u001b[1;32min\u001b[0m \u001b[0mself\u001b[0m\u001b[1;33m.\u001b[0m\u001b[0m_semantic_mappings\u001b[0m\u001b[1;33m.\u001b[0m\u001b[0mitems\u001b[0m\u001b[1;33m(\u001b[0m\u001b[1;33m)\u001b[0m\u001b[1;33m:\u001b[0m\u001b[1;33m\u001b[0m\u001b[1;33m\u001b[0m\u001b[0m\n",
      "\u001b[1;32m~\\anaconda3\\lib\\site-packages\\seaborn\\_core.py\u001b[0m in \u001b[0;36massign_variables\u001b[1;34m(self, data, variables)\u001b[0m\n\u001b[0;32m    665\u001b[0m         \u001b[1;32melse\u001b[0m\u001b[1;33m:\u001b[0m\u001b[1;33m\u001b[0m\u001b[1;33m\u001b[0m\u001b[0m\n\u001b[0;32m    666\u001b[0m             \u001b[0mself\u001b[0m\u001b[1;33m.\u001b[0m\u001b[0minput_format\u001b[0m \u001b[1;33m=\u001b[0m \u001b[1;34m\"long\"\u001b[0m\u001b[1;33m\u001b[0m\u001b[1;33m\u001b[0m\u001b[0m\n\u001b[1;32m--> 667\u001b[1;33m             plot_data, variables = self._assign_variables_longform(\n\u001b[0m\u001b[0;32m    668\u001b[0m                 \u001b[0mdata\u001b[0m\u001b[1;33m,\u001b[0m \u001b[1;33m**\u001b[0m\u001b[0mvariables\u001b[0m\u001b[1;33m,\u001b[0m\u001b[1;33m\u001b[0m\u001b[1;33m\u001b[0m\u001b[0m\n\u001b[0;32m    669\u001b[0m             )\n",
      "\u001b[1;32m~\\anaconda3\\lib\\site-packages\\seaborn\\_core.py\u001b[0m in \u001b[0;36m_assign_variables_longform\u001b[1;34m(self, data, **kwargs)\u001b[0m\n\u001b[0;32m    924\u001b[0m         \u001b[1;31m# Construct a tidy plot DataFrame. This will convert a number of\u001b[0m\u001b[1;33m\u001b[0m\u001b[1;33m\u001b[0m\u001b[1;33m\u001b[0m\u001b[0m\n\u001b[0;32m    925\u001b[0m         \u001b[1;31m# types automatically, aligning on index in case of pandas objects\u001b[0m\u001b[1;33m\u001b[0m\u001b[1;33m\u001b[0m\u001b[1;33m\u001b[0m\u001b[0m\n\u001b[1;32m--> 926\u001b[1;33m         \u001b[0mplot_data\u001b[0m \u001b[1;33m=\u001b[0m \u001b[0mpd\u001b[0m\u001b[1;33m.\u001b[0m\u001b[0mDataFrame\u001b[0m\u001b[1;33m(\u001b[0m\u001b[0mplot_data\u001b[0m\u001b[1;33m)\u001b[0m\u001b[1;33m\u001b[0m\u001b[1;33m\u001b[0m\u001b[0m\n\u001b[0m\u001b[0;32m    927\u001b[0m \u001b[1;33m\u001b[0m\u001b[0m\n\u001b[0;32m    928\u001b[0m         \u001b[1;31m# Reduce the variables dictionary to fields with valid data\u001b[0m\u001b[1;33m\u001b[0m\u001b[1;33m\u001b[0m\u001b[1;33m\u001b[0m\u001b[0m\n",
      "\u001b[1;32m~\\anaconda3\\lib\\site-packages\\pandas\\core\\frame.py\u001b[0m in \u001b[0;36m__init__\u001b[1;34m(self, data, index, columns, dtype, copy)\u001b[0m\n\u001b[0;32m    527\u001b[0m \u001b[1;33m\u001b[0m\u001b[0m\n\u001b[0;32m    528\u001b[0m         \u001b[1;32melif\u001b[0m \u001b[0misinstance\u001b[0m\u001b[1;33m(\u001b[0m\u001b[0mdata\u001b[0m\u001b[1;33m,\u001b[0m \u001b[0mdict\u001b[0m\u001b[1;33m)\u001b[0m\u001b[1;33m:\u001b[0m\u001b[1;33m\u001b[0m\u001b[1;33m\u001b[0m\u001b[0m\n\u001b[1;32m--> 529\u001b[1;33m             \u001b[0mmgr\u001b[0m \u001b[1;33m=\u001b[0m \u001b[0minit_dict\u001b[0m\u001b[1;33m(\u001b[0m\u001b[0mdata\u001b[0m\u001b[1;33m,\u001b[0m \u001b[0mindex\u001b[0m\u001b[1;33m,\u001b[0m \u001b[0mcolumns\u001b[0m\u001b[1;33m,\u001b[0m \u001b[0mdtype\u001b[0m\u001b[1;33m=\u001b[0m\u001b[0mdtype\u001b[0m\u001b[1;33m)\u001b[0m\u001b[1;33m\u001b[0m\u001b[1;33m\u001b[0m\u001b[0m\n\u001b[0m\u001b[0;32m    530\u001b[0m         \u001b[1;32melif\u001b[0m \u001b[0misinstance\u001b[0m\u001b[1;33m(\u001b[0m\u001b[0mdata\u001b[0m\u001b[1;33m,\u001b[0m \u001b[0mma\u001b[0m\u001b[1;33m.\u001b[0m\u001b[0mMaskedArray\u001b[0m\u001b[1;33m)\u001b[0m\u001b[1;33m:\u001b[0m\u001b[1;33m\u001b[0m\u001b[1;33m\u001b[0m\u001b[0m\n\u001b[0;32m    531\u001b[0m             \u001b[1;32mimport\u001b[0m \u001b[0mnumpy\u001b[0m\u001b[1;33m.\u001b[0m\u001b[0mma\u001b[0m\u001b[1;33m.\u001b[0m\u001b[0mmrecords\u001b[0m \u001b[1;32mas\u001b[0m \u001b[0mmrecords\u001b[0m\u001b[1;33m\u001b[0m\u001b[1;33m\u001b[0m\u001b[0m\n",
      "\u001b[1;32m~\\anaconda3\\lib\\site-packages\\pandas\\core\\internals\\construction.py\u001b[0m in \u001b[0;36minit_dict\u001b[1;34m(data, index, columns, dtype)\u001b[0m\n\u001b[0;32m    285\u001b[0m             \u001b[0marr\u001b[0m \u001b[1;32mif\u001b[0m \u001b[1;32mnot\u001b[0m \u001b[0mis_datetime64tz_dtype\u001b[0m\u001b[1;33m(\u001b[0m\u001b[0marr\u001b[0m\u001b[1;33m)\u001b[0m \u001b[1;32melse\u001b[0m \u001b[0marr\u001b[0m\u001b[1;33m.\u001b[0m\u001b[0mcopy\u001b[0m\u001b[1;33m(\u001b[0m\u001b[1;33m)\u001b[0m \u001b[1;32mfor\u001b[0m \u001b[0marr\u001b[0m \u001b[1;32min\u001b[0m \u001b[0marrays\u001b[0m\u001b[1;33m\u001b[0m\u001b[1;33m\u001b[0m\u001b[0m\n\u001b[0;32m    286\u001b[0m         ]\n\u001b[1;32m--> 287\u001b[1;33m     \u001b[1;32mreturn\u001b[0m \u001b[0marrays_to_mgr\u001b[0m\u001b[1;33m(\u001b[0m\u001b[0marrays\u001b[0m\u001b[1;33m,\u001b[0m \u001b[0mdata_names\u001b[0m\u001b[1;33m,\u001b[0m \u001b[0mindex\u001b[0m\u001b[1;33m,\u001b[0m \u001b[0mcolumns\u001b[0m\u001b[1;33m,\u001b[0m \u001b[0mdtype\u001b[0m\u001b[1;33m=\u001b[0m\u001b[0mdtype\u001b[0m\u001b[1;33m)\u001b[0m\u001b[1;33m\u001b[0m\u001b[1;33m\u001b[0m\u001b[0m\n\u001b[0m\u001b[0;32m    288\u001b[0m \u001b[1;33m\u001b[0m\u001b[0m\n\u001b[0;32m    289\u001b[0m \u001b[1;33m\u001b[0m\u001b[0m\n",
      "\u001b[1;32m~\\anaconda3\\lib\\site-packages\\pandas\\core\\internals\\construction.py\u001b[0m in \u001b[0;36marrays_to_mgr\u001b[1;34m(arrays, arr_names, index, columns, dtype, verify_integrity)\u001b[0m\n\u001b[0;32m     78\u001b[0m         \u001b[1;31m# figure out the index, if necessary\u001b[0m\u001b[1;33m\u001b[0m\u001b[1;33m\u001b[0m\u001b[1;33m\u001b[0m\u001b[0m\n\u001b[0;32m     79\u001b[0m         \u001b[1;32mif\u001b[0m \u001b[0mindex\u001b[0m \u001b[1;32mis\u001b[0m \u001b[1;32mNone\u001b[0m\u001b[1;33m:\u001b[0m\u001b[1;33m\u001b[0m\u001b[1;33m\u001b[0m\u001b[0m\n\u001b[1;32m---> 80\u001b[1;33m             \u001b[0mindex\u001b[0m \u001b[1;33m=\u001b[0m \u001b[0mextract_index\u001b[0m\u001b[1;33m(\u001b[0m\u001b[0marrays\u001b[0m\u001b[1;33m)\u001b[0m\u001b[1;33m\u001b[0m\u001b[1;33m\u001b[0m\u001b[0m\n\u001b[0m\u001b[0;32m     81\u001b[0m         \u001b[1;32melse\u001b[0m\u001b[1;33m:\u001b[0m\u001b[1;33m\u001b[0m\u001b[1;33m\u001b[0m\u001b[0m\n\u001b[0;32m     82\u001b[0m             \u001b[0mindex\u001b[0m \u001b[1;33m=\u001b[0m \u001b[0mensure_index\u001b[0m\u001b[1;33m(\u001b[0m\u001b[0mindex\u001b[0m\u001b[1;33m)\u001b[0m\u001b[1;33m\u001b[0m\u001b[1;33m\u001b[0m\u001b[0m\n",
      "\u001b[1;32m~\\anaconda3\\lib\\site-packages\\pandas\\core\\internals\\construction.py\u001b[0m in \u001b[0;36mextract_index\u001b[1;34m(data)\u001b[0m\n\u001b[0;32m    389\u001b[0m \u001b[1;33m\u001b[0m\u001b[0m\n\u001b[0;32m    390\u001b[0m         \u001b[1;32mif\u001b[0m \u001b[1;32mnot\u001b[0m \u001b[0mindexes\u001b[0m \u001b[1;32mand\u001b[0m \u001b[1;32mnot\u001b[0m \u001b[0mraw_lengths\u001b[0m\u001b[1;33m:\u001b[0m\u001b[1;33m\u001b[0m\u001b[1;33m\u001b[0m\u001b[0m\n\u001b[1;32m--> 391\u001b[1;33m             \u001b[1;32mraise\u001b[0m \u001b[0mValueError\u001b[0m\u001b[1;33m(\u001b[0m\u001b[1;34m\"If using all scalar values, you must pass an index\"\u001b[0m\u001b[1;33m)\u001b[0m\u001b[1;33m\u001b[0m\u001b[1;33m\u001b[0m\u001b[0m\n\u001b[0m\u001b[0;32m    392\u001b[0m \u001b[1;33m\u001b[0m\u001b[0m\n\u001b[0;32m    393\u001b[0m         \u001b[1;32mif\u001b[0m \u001b[0mhave_series\u001b[0m\u001b[1;33m:\u001b[0m\u001b[1;33m\u001b[0m\u001b[1;33m\u001b[0m\u001b[0m\n",
      "\u001b[1;31mValueError\u001b[0m: If using all scalar values, you must pass an index"
     ]
    },
    {
     "name": "stderr",
     "output_type": "stream",
     "text": [
      "C:\\Users\\karin\\anaconda3\\lib\\site-packages\\matplotlib\\backends\\backend_agg.py:238: RuntimeWarning: Glyph 27839 missing from current font.\n",
      "  font.set_text(s, 0.0, flags=flags)\n",
      "C:\\Users\\karin\\anaconda3\\lib\\site-packages\\matplotlib\\backends\\backend_agg.py:238: RuntimeWarning: Glyph 12459 missing from current font.\n",
      "  font.set_text(s, 0.0, flags=flags)\n",
      "C:\\Users\\karin\\anaconda3\\lib\\site-packages\\matplotlib\\backends\\backend_agg.py:238: RuntimeWarning: Glyph 12486 missing from current font.\n",
      "  font.set_text(s, 0.0, flags=flags)\n",
      "C:\\Users\\karin\\anaconda3\\lib\\site-packages\\matplotlib\\backends\\backend_agg.py:238: RuntimeWarning: Glyph 12468 missing from current font.\n",
      "  font.set_text(s, 0.0, flags=flags)\n",
      "C:\\Users\\karin\\anaconda3\\lib\\site-packages\\matplotlib\\backends\\backend_agg.py:238: RuntimeWarning: Glyph 12522 missing from current font.\n",
      "  font.set_text(s, 0.0, flags=flags)\n",
      "C:\\Users\\karin\\anaconda3\\lib\\site-packages\\matplotlib\\backends\\backend_agg.py:201: RuntimeWarning: Glyph 23567 missing from current font.\n",
      "  font.set_text(s, 0, flags=flags)\n",
      "C:\\Users\\karin\\anaconda3\\lib\\site-packages\\matplotlib\\backends\\backend_agg.py:201: RuntimeWarning: Glyph 30000 missing from current font.\n",
      "  font.set_text(s, 0, flags=flags)\n",
      "C:\\Users\\karin\\anaconda3\\lib\\site-packages\\matplotlib\\backends\\backend_agg.py:201: RuntimeWarning: Glyph 24613 missing from current font.\n",
      "  font.set_text(s, 0, flags=flags)\n",
      "C:\\Users\\karin\\anaconda3\\lib\\site-packages\\matplotlib\\backends\\backend_agg.py:201: RuntimeWarning: Glyph 32218 missing from current font.\n",
      "  font.set_text(s, 0, flags=flags)\n",
      "C:\\Users\\karin\\anaconda3\\lib\\site-packages\\matplotlib\\backends\\backend_agg.py:201: RuntimeWarning: Glyph 27743 missing from current font.\n",
      "  font.set_text(s, 0, flags=flags)\n",
      "C:\\Users\\karin\\anaconda3\\lib\\site-packages\\matplotlib\\backends\\backend_agg.py:201: RuntimeWarning: Glyph 12494 missing from current font.\n",
      "  font.set_text(s, 0, flags=flags)\n",
      "C:\\Users\\karin\\anaconda3\\lib\\site-packages\\matplotlib\\backends\\backend_agg.py:201: RuntimeWarning: Glyph 23798 missing from current font.\n",
      "  font.set_text(s, 0, flags=flags)\n",
      "C:\\Users\\karin\\anaconda3\\lib\\site-packages\\matplotlib\\backends\\backend_agg.py:201: RuntimeWarning: Glyph 27839 missing from current font.\n",
      "  font.set_text(s, 0, flags=flags)\n",
      "C:\\Users\\karin\\anaconda3\\lib\\site-packages\\matplotlib\\backends\\backend_agg.py:201: RuntimeWarning: Glyph 20013 missing from current font.\n",
      "  font.set_text(s, 0, flags=flags)\n",
      "C:\\Users\\karin\\anaconda3\\lib\\site-packages\\matplotlib\\backends\\backend_agg.py:201: RuntimeWarning: Glyph 21476 missing from current font.\n",
      "  font.set_text(s, 0, flags=flags)\n",
      "C:\\Users\\karin\\anaconda3\\lib\\site-packages\\matplotlib\\backends\\backend_agg.py:201: RuntimeWarning: Glyph 19968 missing from current font.\n",
      "  font.set_text(s, 0, flags=flags)\n",
      "C:\\Users\\karin\\anaconda3\\lib\\site-packages\\matplotlib\\backends\\backend_agg.py:201: RuntimeWarning: Glyph 25144 missing from current font.\n",
      "  font.set_text(s, 0, flags=flags)\n",
      "C:\\Users\\karin\\anaconda3\\lib\\site-packages\\matplotlib\\backends\\backend_agg.py:201: RuntimeWarning: Glyph 24314 missing from current font.\n",
      "  font.set_text(s, 0, flags=flags)\n",
      "C:\\Users\\karin\\anaconda3\\lib\\site-packages\\matplotlib\\backends\\backend_agg.py:201: RuntimeWarning: Glyph 12390 missing from current font.\n",
      "  font.set_text(s, 0, flags=flags)\n",
      "C:\\Users\\karin\\anaconda3\\lib\\site-packages\\matplotlib\\backends\\backend_agg.py:201: RuntimeWarning: Glyph 12510 missing from current font.\n",
      "  font.set_text(s, 0, flags=flags)\n",
      "C:\\Users\\karin\\anaconda3\\lib\\site-packages\\matplotlib\\backends\\backend_agg.py:201: RuntimeWarning: Glyph 12531 missing from current font.\n",
      "  font.set_text(s, 0, flags=flags)\n",
      "C:\\Users\\karin\\anaconda3\\lib\\site-packages\\matplotlib\\backends\\backend_agg.py:201: RuntimeWarning: Glyph 12471 missing from current font.\n",
      "  font.set_text(s, 0, flags=flags)\n",
      "C:\\Users\\karin\\anaconda3\\lib\\site-packages\\matplotlib\\backends\\backend_agg.py:201: RuntimeWarning: Glyph 12519 missing from current font.\n",
      "  font.set_text(s, 0, flags=flags)\n",
      "C:\\Users\\karin\\anaconda3\\lib\\site-packages\\matplotlib\\backends\\backend_agg.py:201: RuntimeWarning: Glyph 12459 missing from current font.\n",
      "  font.set_text(s, 0, flags=flags)\n",
      "C:\\Users\\karin\\anaconda3\\lib\\site-packages\\matplotlib\\backends\\backend_agg.py:201: RuntimeWarning: Glyph 12486 missing from current font.\n",
      "  font.set_text(s, 0, flags=flags)\n",
      "C:\\Users\\karin\\anaconda3\\lib\\site-packages\\matplotlib\\backends\\backend_agg.py:201: RuntimeWarning: Glyph 12468 missing from current font.\n",
      "  font.set_text(s, 0, flags=flags)\n",
      "C:\\Users\\karin\\anaconda3\\lib\\site-packages\\matplotlib\\backends\\backend_agg.py:201: RuntimeWarning: Glyph 12522 missing from current font.\n",
      "  font.set_text(s, 0, flags=flags)\n"
     ]
    },
    {
     "data": {
      "image/png": "[encoded data removed]",
      "text/plain": [
       "<Figure size 360x360 with 1 Axes>"
      ]
     },
     "metadata": {
      "needs_background": "light"
     },
     "output_type": "display_data"
    }
   ],
   "source": [
    "sns.catplot(x=\"沿線\", y=\"カテゴリ\", data=filtered)\n",
    "sns.scatterplot(filtered)\n",
    "plt.show()"
   ]
  },
  {
   "cell_type": "code",
   "execution_count": 41,
   "metadata": {},
   "outputs": [
    {
     "data": {
      "text/html": [
       "<div>\n",
       "<style scoped>\n",
       "    .dataframe tbody tr th:only-of-type {\n",
       "        vertical-align: middle;\n",
       "    }\n",
       "\n",
       "    .dataframe tbody tr th {\n",
       "        vertical-align: top;\n",
       "    }\n",
       "\n",
       "    .dataframe thead th {\n",
       "        text-align: right;\n",
       "    }\n",
       "</style>\n",
       "<table border=\"1\" class=\"dataframe\">\n",
       "  <thead>\n",
       "    <tr style=\"text-align: right;\">\n",
       "      <th></th>\n",
       "      <th>カテゴリ</th>\n",
       "      <th>販売価格</th>\n",
       "      <th>所在地</th>\n",
       "      <th>区</th>\n",
       "      <th>沿線</th>\n",
       "      <th>最寄駅</th>\n",
       "      <th>徒歩（分）</th>\n",
       "      <th>バス（分）</th>\n",
       "      <th>土地面積</th>\n",
       "      <th>建物面積</th>\n",
       "      <th>バルコニー</th>\n",
       "      <th>間取り</th>\n",
       "      <th>築年数</th>\n",
       "    </tr>\n",
       "  </thead>\n",
       "  <tbody>\n",
       "    <tr>\n",
       "      <th>146</th>\n",
       "      <td>中古一戸建て</td>\n",
       "      <td>35800000</td>\n",
       "      <td>神奈川県横浜市青葉区奈良町</td>\n",
       "      <td>青葉区</td>\n",
       "      <td>小田急線</td>\n",
       "      <td>玉川学園前</td>\n",
       "      <td>13</td>\n",
       "      <td>0</td>\n",
       "      <td>125.19</td>\n",
       "      <td>90.19</td>\n",
       "      <td>0.00</td>\n",
       "      <td>4LDK</td>\n",
       "      <td>22</td>\n",
       "    </tr>\n",
       "    <tr>\n",
       "      <th>147</th>\n",
       "      <td>中古一戸建て</td>\n",
       "      <td>35800000</td>\n",
       "      <td>神奈川県横浜市青葉区奈良町</td>\n",
       "      <td>青葉区</td>\n",
       "      <td>小田急線</td>\n",
       "      <td>玉川学園前</td>\n",
       "      <td>17</td>\n",
       "      <td>0</td>\n",
       "      <td>125.19</td>\n",
       "      <td>90.19</td>\n",
       "      <td>0.00</td>\n",
       "      <td>4LDK</td>\n",
       "      <td>22</td>\n",
       "    </tr>\n",
       "    <tr>\n",
       "      <th>313</th>\n",
       "      <td>中古一戸建て</td>\n",
       "      <td>19800000</td>\n",
       "      <td>神奈川県横浜市瀬谷区北新</td>\n",
       "      <td>瀬谷区</td>\n",
       "      <td>小田急江ノ島線</td>\n",
       "      <td>桜ヶ丘</td>\n",
       "      <td>17</td>\n",
       "      <td>0</td>\n",
       "      <td>102.02</td>\n",
       "      <td>82.80</td>\n",
       "      <td>0.00</td>\n",
       "      <td>4LDK</td>\n",
       "      <td>24</td>\n",
       "    </tr>\n",
       "    <tr>\n",
       "      <th>542</th>\n",
       "      <td>中古一戸建て</td>\n",
       "      <td>35800000</td>\n",
       "      <td>神奈川県横浜市青葉区奈良町</td>\n",
       "      <td>青葉区</td>\n",
       "      <td>小田急線</td>\n",
       "      <td>玉川学園前</td>\n",
       "      <td>13</td>\n",
       "      <td>0</td>\n",
       "      <td>125.19</td>\n",
       "      <td>90.19</td>\n",
       "      <td>0.00</td>\n",
       "      <td>4LDK</td>\n",
       "      <td>22</td>\n",
       "    </tr>\n",
       "    <tr>\n",
       "      <th>851</th>\n",
       "      <td>中古一戸建て</td>\n",
       "      <td>24300000</td>\n",
       "      <td>神奈川県横浜市瀬谷区下瀬谷３</td>\n",
       "      <td>瀬谷区</td>\n",
       "      <td>小田急江ノ島線</td>\n",
       "      <td>桜ヶ丘</td>\n",
       "      <td>17</td>\n",
       "      <td>0</td>\n",
       "      <td>100.91</td>\n",
       "      <td>96.05</td>\n",
       "      <td>0.00</td>\n",
       "      <td>4LDK</td>\n",
       "      <td>25</td>\n",
       "    </tr>\n",
       "    <tr>\n",
       "      <th>1492</th>\n",
       "      <td>中古一戸建て</td>\n",
       "      <td>35800000</td>\n",
       "      <td>神奈川県横浜市青葉区奈良町</td>\n",
       "      <td>青葉区</td>\n",
       "      <td>小田急線</td>\n",
       "      <td>玉川学園前</td>\n",
       "      <td>13</td>\n",
       "      <td>0</td>\n",
       "      <td>125.19</td>\n",
       "      <td>90.19</td>\n",
       "      <td>0.00</td>\n",
       "      <td>4LDK</td>\n",
       "      <td>22</td>\n",
       "    </tr>\n",
       "    <tr>\n",
       "      <th>1507</th>\n",
       "      <td>中古一戸建て</td>\n",
       "      <td>35800000</td>\n",
       "      <td>神奈川県横浜市青葉区奈良町</td>\n",
       "      <td>青葉区</td>\n",
       "      <td>小田急線</td>\n",
       "      <td>玉川学園前</td>\n",
       "      <td>13</td>\n",
       "      <td>0</td>\n",
       "      <td>125.19</td>\n",
       "      <td>90.19</td>\n",
       "      <td>0.00</td>\n",
       "      <td>4LDK</td>\n",
       "      <td>22</td>\n",
       "    </tr>\n",
       "    <tr>\n",
       "      <th>1517</th>\n",
       "      <td>中古一戸建て</td>\n",
       "      <td>35800000</td>\n",
       "      <td>神奈川県横浜市青葉区奈良町</td>\n",
       "      <td>青葉区</td>\n",
       "      <td>小田急線</td>\n",
       "      <td>玉川学園前</td>\n",
       "      <td>13</td>\n",
       "      <td>0</td>\n",
       "      <td>125.19</td>\n",
       "      <td>90.19</td>\n",
       "      <td>0.00</td>\n",
       "      <td>4LDK</td>\n",
       "      <td>22</td>\n",
       "    </tr>\n",
       "    <tr>\n",
       "      <th>2249</th>\n",
       "      <td>中古一戸建て</td>\n",
       "      <td>99800000</td>\n",
       "      <td>神奈川県横浜市青葉区奈良町</td>\n",
       "      <td>青葉区</td>\n",
       "      <td>小田急線</td>\n",
       "      <td>玉川学園前</td>\n",
       "      <td>8</td>\n",
       "      <td>0</td>\n",
       "      <td>531.84</td>\n",
       "      <td>176.85</td>\n",
       "      <td>0.00</td>\n",
       "      <td>5LDK</td>\n",
       "      <td>16</td>\n",
       "    </tr>\n",
       "    <tr>\n",
       "      <th>2250</th>\n",
       "      <td>中古一戸建て</td>\n",
       "      <td>99800000</td>\n",
       "      <td>神奈川県横浜市青葉区奈良町</td>\n",
       "      <td>青葉区</td>\n",
       "      <td>小田急線</td>\n",
       "      <td>玉川学園前</td>\n",
       "      <td>8</td>\n",
       "      <td>0</td>\n",
       "      <td>531.84</td>\n",
       "      <td>176.85</td>\n",
       "      <td>0.00</td>\n",
       "      <td>5LDK</td>\n",
       "      <td>16</td>\n",
       "    </tr>\n",
       "    <tr>\n",
       "      <th>2334</th>\n",
       "      <td>中古マンション</td>\n",
       "      <td>10800000</td>\n",
       "      <td>神奈川県横浜市瀬谷区下瀬谷３丁目</td>\n",
       "      <td>瀬谷区</td>\n",
       "      <td>小田急江ノ島線</td>\n",
       "      <td>桜ヶ丘</td>\n",
       "      <td>19</td>\n",
       "      <td>0</td>\n",
       "      <td>56.07</td>\n",
       "      <td>56.07</td>\n",
       "      <td>10.08</td>\n",
       "      <td>2LDK</td>\n",
       "      <td>46</td>\n",
       "    </tr>\n",
       "  </tbody>\n",
       "</table>\n",
       "</div>"
      ],
      "text/plain": [
       "         カテゴリ      販売価格               所在地    区       沿線    最寄駅 徒歩（分） バス（分）  \\\n",
       "146    中古一戸建て  35800000     神奈川県横浜市青葉区奈良町  青葉区     小田急線  玉川学園前    13     0   \n",
       "147    中古一戸建て  35800000     神奈川県横浜市青葉区奈良町  青葉区     小田急線  玉川学園前    17     0   \n",
       "313    中古一戸建て  19800000      神奈川県横浜市瀬谷区北新  瀬谷区  小田急江ノ島線    桜ヶ丘    17     0   \n",
       "542    中古一戸建て  35800000     神奈川県横浜市青葉区奈良町  青葉区     小田急線  玉川学園前    13     0   \n",
       "851    中古一戸建て  24300000    神奈川県横浜市瀬谷区下瀬谷３  瀬谷区  小田急江ノ島線    桜ヶ丘    17     0   \n",
       "1492   中古一戸建て  35800000     神奈川県横浜市青葉区奈良町  青葉区     小田急線  玉川学園前    13     0   \n",
       "1507   中古一戸建て  35800000     神奈川県横浜市青葉区奈良町  青葉区     小田急線  玉川学園前    13     0   \n",
       "1517   中古一戸建て  35800000     神奈川県横浜市青葉区奈良町  青葉区     小田急線  玉川学園前    13     0   \n",
       "2249   中古一戸建て  99800000     神奈川県横浜市青葉区奈良町  青葉区     小田急線  玉川学園前     8     0   \n",
       "2250   中古一戸建て  99800000     神奈川県横浜市青葉区奈良町  青葉区     小田急線  玉川学園前     8     0   \n",
       "2334  中古マンション  10800000  神奈川県横浜市瀬谷区下瀬谷３丁目  瀬谷区  小田急江ノ島線    桜ヶ丘    19     0   \n",
       "\n",
       "        土地面積    建物面積  バルコニー   間取り  築年数  \n",
       "146   125.19   90.19   0.00  4LDK   22  \n",
       "147   125.19   90.19   0.00  4LDK   22  \n",
       "313   102.02   82.80   0.00  4LDK   24  \n",
       "542   125.19   90.19   0.00  4LDK   22  \n",
       "851   100.91   96.05   0.00  4LDK   25  \n",
       "1492  125.19   90.19   0.00  4LDK   22  \n",
       "1507  125.19   90.19   0.00  4LDK   22  \n",
       "1517  125.19   90.19   0.00  4LDK   22  \n",
       "2249  531.84  176.85   0.00  5LDK   16  \n",
       "2250  531.84  176.85   0.00  5LDK   16  \n",
       "2334   56.07   56.07  10.08  2LDK   46  "
      ]
     },
     "execution_count": 41,
     "metadata": {},
     "output_type": "execute_result"
    }
   ],
   "source": [
    "filtered"
   ]
  },
  {
   "cell_type": "markdown",
   "metadata": {},
   "source": [
    "データ数これしかない！そもそも小田急線と小田急江ノ島線のデータ数が少なかった。可視化する前にちゃんと数を確認する。\n",
    "<br>\n",
    "<br>\n",
    "**ヒストグラム**"
   ]
  },
  {
   "cell_type": "code",
   "execution_count": 42,
   "metadata": {},
   "outputs": [
    {
     "name": "stderr",
     "output_type": "stream",
     "text": [
      "C:\\Users\\karin\\anaconda3\\lib\\site-packages\\seaborn\\distributions.py:2557: FutureWarning: `distplot` is a deprecated function and will be removed in a future version. Please adapt your code to use either `displot` (a figure-level function with similar flexibility) or `histplot` (an axes-level function for histograms).\n",
      "  warnings.warn(msg, FutureWarning)\n",
      "C:\\Users\\karin\\anaconda3\\lib\\site-packages\\matplotlib\\backends\\backend_agg.py:238: RuntimeWarning: Glyph 31689 missing from current font.\n",
      "  font.set_text(s, 0.0, flags=flags)\n",
      "C:\\Users\\karin\\anaconda3\\lib\\site-packages\\matplotlib\\backends\\backend_agg.py:238: RuntimeWarning: Glyph 24180 missing from current font.\n",
      "  font.set_text(s, 0.0, flags=flags)\n",
      "C:\\Users\\karin\\anaconda3\\lib\\site-packages\\matplotlib\\backends\\backend_agg.py:238: RuntimeWarning: Glyph 25968 missing from current font.\n",
      "  font.set_text(s, 0.0, flags=flags)\n",
      "C:\\Users\\karin\\anaconda3\\lib\\site-packages\\matplotlib\\backends\\backend_agg.py:201: RuntimeWarning: Glyph 31689 missing from current font.\n",
      "  font.set_text(s, 0, flags=flags)\n",
      "C:\\Users\\karin\\anaconda3\\lib\\site-packages\\matplotlib\\backends\\backend_agg.py:201: RuntimeWarning: Glyph 24180 missing from current font.\n",
      "  font.set_text(s, 0, flags=flags)\n",
      "C:\\Users\\karin\\anaconda3\\lib\\site-packages\\matplotlib\\backends\\backend_agg.py:201: RuntimeWarning: Glyph 25968 missing from current font.\n",
      "  font.set_text(s, 0, flags=flags)\n"
     ]
    },
    {
     "data": {
      "image/png": "[encoded data removed]",
      "text/plain": [
       "<Figure size 432x288 with 1 Axes>"
      ]
     },
     "metadata": {
      "needs_background": "light"
     },
     "output_type": "display_data"
    }
   ],
   "source": [
    "#all\n",
    "sns.distplot(df[\"築年数\"], kde=True)\n",
    "plt.show()"
   ]
  },
  {
   "cell_type": "code",
   "execution_count": 49,
   "metadata": {},
   "outputs": [
    {
     "name": "stderr",
     "output_type": "stream",
     "text": [
      "C:\\Users\\karin\\anaconda3\\lib\\site-packages\\seaborn\\distributions.py:2557: FutureWarning: `distplot` is a deprecated function and will be removed in a future version. Please adapt your code to use either `displot` (a figure-level function with similar flexibility) or `histplot` (an axes-level function for histograms).\n",
      "  warnings.warn(msg, FutureWarning)\n",
      "C:\\Users\\karin\\anaconda3\\lib\\site-packages\\seaborn\\distributions.py:2056: FutureWarning: The `axis` variable is no longer used and will be removed. Instead, assign variables directly to `x` or `y`.\n",
      "  warnings.warn(msg, FutureWarning)\n",
      "C:\\Users\\karin\\anaconda3\\lib\\site-packages\\seaborn\\distributions.py:2557: FutureWarning: `distplot` is a deprecated function and will be removed in a future version. Please adapt your code to use either `displot` (a figure-level function with similar flexibility) or `histplot` (an axes-level function for histograms).\n",
      "  warnings.warn(msg, FutureWarning)\n",
      "C:\\Users\\karin\\anaconda3\\lib\\site-packages\\seaborn\\distributions.py:2056: FutureWarning: The `axis` variable is no longer used and will be removed. Instead, assign variables directly to `x` or `y`.\n",
      "  warnings.warn(msg, FutureWarning)\n",
      "C:\\Users\\karin\\anaconda3\\lib\\site-packages\\matplotlib\\backends\\backend_agg.py:238: RuntimeWarning: Glyph 31689 missing from current font.\n",
      "  font.set_text(s, 0.0, flags=flags)\n",
      "C:\\Users\\karin\\anaconda3\\lib\\site-packages\\matplotlib\\backends\\backend_agg.py:238: RuntimeWarning: Glyph 24180 missing from current font.\n",
      "  font.set_text(s, 0.0, flags=flags)\n",
      "C:\\Users\\karin\\anaconda3\\lib\\site-packages\\matplotlib\\backends\\backend_agg.py:238: RuntimeWarning: Glyph 25968 missing from current font.\n",
      "  font.set_text(s, 0.0, flags=flags)\n",
      "C:\\Users\\karin\\anaconda3\\lib\\site-packages\\matplotlib\\backends\\backend_agg.py:201: RuntimeWarning: Glyph 31689 missing from current font.\n",
      "  font.set_text(s, 0, flags=flags)\n",
      "C:\\Users\\karin\\anaconda3\\lib\\site-packages\\matplotlib\\backends\\backend_agg.py:201: RuntimeWarning: Glyph 24180 missing from current font.\n",
      "  font.set_text(s, 0, flags=flags)\n",
      "C:\\Users\\karin\\anaconda3\\lib\\site-packages\\matplotlib\\backends\\backend_agg.py:201: RuntimeWarning: Glyph 25968 missing from current font.\n",
      "  font.set_text(s, 0, flags=flags)\n"
     ]
    },
    {
     "data": {
      "image/png": "[encoded data removed]",
      "text/plain": [
       "<Figure size 432x288 with 1 Axes>"
      ]
     },
     "metadata": {
      "needs_background": "light"
     },
     "output_type": "display_data"
    }
   ],
   "source": [
    "#中古一戸建てと中古マンション別で\n",
    "sns.distplot(df[df[\"カテゴリ\"] == \"中古一戸建て\"][\"築年数\"], kde=True, rug=True, color='blue')\n",
    "sns.distplot(df[df[\"カテゴリ\"] == \"中古マンション\"][\"築年数\"], kde=True, rug=True, color='red')\n",
    "plt.show()"
   ]
  },
  {
   "cell_type": "markdown",
   "metadata": {},
   "source": [
    "中古一戸建ての方が幅が広い\n",
    "\n",
    "----\n",
    "**色々やってみた**"
   ]
  },
  {
   "cell_type": "code",
   "execution_count": 106,
   "metadata": {
    "collapsed": true
   },
   "outputs": [
    {
     "data": {
      "text/plain": [
       "<bound method NDFrame.head of 0        16800000\n",
       "1        17500000\n",
       "2        18800000\n",
       "3        19800000\n",
       "4        19800000\n",
       "          ...    \n",
       "8649     52900000\n",
       "8650     64800000\n",
       "8651     68800000\n",
       "8652    149800000\n",
       "8653    600000000\n",
       "Name: 販売価格, Length: 8654, dtype: int64>"
      ]
     },
     "execution_count": 106,
     "metadata": {},
     "output_type": "execute_result"
    }
   ],
   "source": [
    "df[\"販売価格\"].head"
   ]
  },
  {
   "cell_type": "code",
   "execution_count": 105,
   "metadata": {},
   "outputs": [
    {
     "data": {
      "text/plain": [
       "dtype('int64')"
      ]
     },
     "execution_count": 105,
     "metadata": {},
     "output_type": "execute_result"
    }
   ],
   "source": [
    "df[\"築年数\"].dtypes\n",
    "#df[\"販売価格\"].dtypes"
   ]
  },
  {
   "cell_type": "code",
   "execution_count": 114,
   "metadata": {},
   "outputs": [
    {
     "data": {
      "text/plain": [
       "<matplotlib.collections.PathCollection at 0x268af9ceb20>"
      ]
     },
     "execution_count": 114,
     "metadata": {},
     "output_type": "execute_result"
    },
    {
     "data": {
      "image/png": "[encoded data removed]",
      "text/plain": [
       "<Figure size 432x288 with 1 Axes>"
      ]
     },
     "metadata": {
      "needs_background": "light"
     },
     "output_type": "display_data"
    }
   ],
   "source": [
    "plt.scatter(df[\"築年数\"], df[\"販売価格\"], marker='.')"
   ]
  },
  {
   "cell_type": "code",
   "execution_count": 117,
   "metadata": {
    "scrolled": true
   },
   "outputs": [
    {
     "data": {
      "text/plain": [
       "<matplotlib.collections.PathCollection at 0x268ab1e9730>"
      ]
     },
     "execution_count": 117,
     "metadata": {},
     "output_type": "execute_result"
    },
    {
     "data": {
      "image/png": "[encoded data removed]",
      "text/plain": [
       "<Figure size 432x288 with 1 Axes>"
      ]
     },
     "metadata": {
      "needs_background": "light"
     },
     "output_type": "display_data"
    }
   ],
   "source": [
    "plt.scatter(df[\"建物面積\"], df[\"販売価格\"], marker='.')"
   ]
  },
  {
   "cell_type": "code",
   "execution_count": 13,
   "metadata": {},
   "outputs": [
    {
     "data": {
      "text/plain": [
       "{'JR京浜東北線',\n",
       " 'JR南武線',\n",
       " 'JR埼京線',\n",
       " 'JR東海道本線',\n",
       " 'JR根岸線',\n",
       " 'JR横浜線',\n",
       " 'JR横須賀線',\n",
       " 'JR鶴見線',\n",
       " 'みなとみらい線',\n",
       " 'グリーンライン',\n",
       " 'シーサイドライン',\n",
       " 'ブルーライン',\n",
       " '京急本線',\n",
       " '京急逗子線',\n",
       " '小田急江ノ島線',\n",
       " '小田急線',\n",
       " '市営バス',\n",
       " '東急こどもの国線',\n",
       " '東急バス',\n",
       " '東急東横線',\n",
       " '東急田園都市線',\n",
       " '東急目黒線',\n",
       " '東海道新幹線',\n",
       " '横浜市営バス',\n",
       " '湘南新宿ライン',\n",
       " '相鉄いずみ野線',\n",
       " '相鉄新横浜線',\n",
       " '相鉄本線',\n",
       " '神奈中バス',\n",
       " '神奈川中央交通'}"
      ]
     },
     "execution_count": 13,
     "metadata": {},
     "output_type": "execute_result"
    }
   ],
   "source": [
    "set(df[\"沿線\"])"
   ]
  },
  {
   "cell_type": "code",
   "execution_count": 102,
   "metadata": {
    "collapsed": true
   },
   "outputs": [
    {
     "data": {
      "text/plain": [
       "{-1,\n",
       " 0,\n",
       " 1,\n",
       " 2,\n",
       " 3,\n",
       " 4,\n",
       " 5,\n",
       " 6,\n",
       " 7,\n",
       " 8,\n",
       " 9,\n",
       " 10,\n",
       " 11,\n",
       " 12,\n",
       " 13,\n",
       " 14,\n",
       " 15,\n",
       " 16,\n",
       " 17,\n",
       " 18,\n",
       " 19,\n",
       " 20,\n",
       " 21,\n",
       " 22,\n",
       " 23,\n",
       " 24,\n",
       " 25,\n",
       " 26,\n",
       " 27,\n",
       " 28,\n",
       " 29,\n",
       " 30,\n",
       " 31,\n",
       " 32,\n",
       " 33,\n",
       " 34,\n",
       " 35,\n",
       " 36,\n",
       " 37,\n",
       " 38,\n",
       " 39,\n",
       " 40,\n",
       " 41,\n",
       " 42,\n",
       " 43,\n",
       " 44,\n",
       " 45,\n",
       " 46,\n",
       " 47,\n",
       " 48,\n",
       " 49,\n",
       " 50,\n",
       " 51,\n",
       " 52,\n",
       " 53,\n",
       " 54,\n",
       " 55,\n",
       " 56,\n",
       " 57,\n",
       " 58,\n",
       " 59,\n",
       " 60,\n",
       " 61,\n",
       " 62,\n",
       " 63,\n",
       " 65,\n",
       " 70,\n",
       " 94}"
      ]
     },
     "execution_count": 102,
     "metadata": {},
     "output_type": "execute_result"
    }
   ],
   "source": [
    "set(df[\"築年数\"])"
   ]
  },
  {
   "cell_type": "code",
   "execution_count": 19,
   "metadata": {},
   "outputs": [],
   "source": [
    "route = ['JR京浜東北線',\n",
    " 'JR南武線',\n",
    " 'JR埼京線',\n",
    " 'JR東海道本線',\n",
    " 'JR根岸線',\n",
    " 'JR横浜線',\n",
    " 'JR横須賀線',\n",
    " 'JR鶴見線',]\n",
    "floor_plan = ['55LDK',\n",
    " '5DK',\n",
    " '5K',\n",
    " '5LDK',\n",
    " '6DK',\n",
    " '6LDK',\n",
    " '7DK',\n",
    " '7LDK',\n",
    " '8LDK',\n",
    " '9LDK']\n",
    "filtered = df[df[\"沿線\"].isin(route) & df[\"間取り\"].isin(floor_plan)]"
   ]
  },
  {
   "cell_type": "code",
   "execution_count": 30,
   "metadata": {
    "collapsed": true
   },
   "outputs": [
    {
     "name": "stderr",
     "output_type": "stream",
     "text": [
      "C:\\Users\\karin\\anaconda3\\lib\\site-packages\\matplotlib\\backends\\backend_agg.py:238: RuntimeWarning: Glyph 36009 missing from current font.\n",
      "  font.set_text(s, 0.0, flags=flags)\n",
      "C:\\Users\\karin\\anaconda3\\lib\\site-packages\\matplotlib\\backends\\backend_agg.py:238: RuntimeWarning: Glyph 22770 missing from current font.\n",
      "  font.set_text(s, 0.0, flags=flags)\n",
      "C:\\Users\\karin\\anaconda3\\lib\\site-packages\\matplotlib\\backends\\backend_agg.py:238: RuntimeWarning: Glyph 20385 missing from current font.\n",
      "  font.set_text(s, 0.0, flags=flags)\n",
      "C:\\Users\\karin\\anaconda3\\lib\\site-packages\\matplotlib\\backends\\backend_agg.py:238: RuntimeWarning: Glyph 26684 missing from current font.\n",
      "  font.set_text(s, 0.0, flags=flags)\n",
      "C:\\Users\\karin\\anaconda3\\lib\\site-packages\\matplotlib\\backends\\backend_agg.py:238: RuntimeWarning: Glyph 22303 missing from current font.\n",
      "  font.set_text(s, 0.0, flags=flags)\n",
      "C:\\Users\\karin\\anaconda3\\lib\\site-packages\\matplotlib\\backends\\backend_agg.py:238: RuntimeWarning: Glyph 22320 missing from current font.\n",
      "  font.set_text(s, 0.0, flags=flags)\n",
      "C:\\Users\\karin\\anaconda3\\lib\\site-packages\\matplotlib\\backends\\backend_agg.py:238: RuntimeWarning: Glyph 38754 missing from current font.\n",
      "  font.set_text(s, 0.0, flags=flags)\n",
      "C:\\Users\\karin\\anaconda3\\lib\\site-packages\\matplotlib\\backends\\backend_agg.py:238: RuntimeWarning: Glyph 31309 missing from current font.\n",
      "  font.set_text(s, 0.0, flags=flags)\n",
      "C:\\Users\\karin\\anaconda3\\lib\\site-packages\\matplotlib\\backends\\backend_agg.py:238: RuntimeWarning: Glyph 24314 missing from current font.\n",
      "  font.set_text(s, 0.0, flags=flags)\n",
      "C:\\Users\\karin\\anaconda3\\lib\\site-packages\\matplotlib\\backends\\backend_agg.py:238: RuntimeWarning: Glyph 29289 missing from current font.\n",
      "  font.set_text(s, 0.0, flags=flags)\n",
      "C:\\Users\\karin\\anaconda3\\lib\\site-packages\\matplotlib\\backends\\backend_agg.py:238: RuntimeWarning: Glyph 12496 missing from current font.\n",
      "  font.set_text(s, 0.0, flags=flags)\n",
      "C:\\Users\\karin\\anaconda3\\lib\\site-packages\\matplotlib\\backends\\backend_agg.py:238: RuntimeWarning: Glyph 12523 missing from current font.\n",
      "  font.set_text(s, 0.0, flags=flags)\n",
      "C:\\Users\\karin\\anaconda3\\lib\\site-packages\\matplotlib\\backends\\backend_agg.py:238: RuntimeWarning: Glyph 12467 missing from current font.\n",
      "  font.set_text(s, 0.0, flags=flags)\n",
      "C:\\Users\\karin\\anaconda3\\lib\\site-packages\\matplotlib\\backends\\backend_agg.py:238: RuntimeWarning: Glyph 12491 missing from current font.\n",
      "  font.set_text(s, 0.0, flags=flags)\n",
      "C:\\Users\\karin\\anaconda3\\lib\\site-packages\\matplotlib\\backends\\backend_agg.py:238: RuntimeWarning: Glyph 12540 missing from current font.\n",
      "  font.set_text(s, 0.0, flags=flags)\n",
      "C:\\Users\\karin\\anaconda3\\lib\\site-packages\\matplotlib\\backends\\backend_agg.py:238: RuntimeWarning: Glyph 31689 missing from current font.\n",
      "  font.set_text(s, 0.0, flags=flags)\n",
      "C:\\Users\\karin\\anaconda3\\lib\\site-packages\\matplotlib\\backends\\backend_agg.py:238: RuntimeWarning: Glyph 24180 missing from current font.\n",
      "  font.set_text(s, 0.0, flags=flags)\n",
      "C:\\Users\\karin\\anaconda3\\lib\\site-packages\\matplotlib\\backends\\backend_agg.py:238: RuntimeWarning: Glyph 25968 missing from current font.\n",
      "  font.set_text(s, 0.0, flags=flags)\n",
      "C:\\Users\\karin\\anaconda3\\lib\\site-packages\\matplotlib\\backends\\backend_agg.py:238: RuntimeWarning: Glyph 36009 missing from current font.\n",
      "  font.set_text(s, 0.0, flags=flags)\n",
      "C:\\Users\\karin\\anaconda3\\lib\\site-packages\\matplotlib\\backends\\backend_agg.py:238: RuntimeWarning: Glyph 22770 missing from current font.\n",
      "  font.set_text(s, 0.0, flags=flags)\n",
      "C:\\Users\\karin\\anaconda3\\lib\\site-packages\\matplotlib\\backends\\backend_agg.py:238: RuntimeWarning: Glyph 20385 missing from current font.\n",
      "  font.set_text(s, 0.0, flags=flags)\n",
      "C:\\Users\\karin\\anaconda3\\lib\\site-packages\\matplotlib\\backends\\backend_agg.py:238: RuntimeWarning: Glyph 26684 missing from current font.\n",
      "  font.set_text(s, 0.0, flags=flags)\n",
      "C:\\Users\\karin\\anaconda3\\lib\\site-packages\\matplotlib\\backends\\backend_agg.py:238: RuntimeWarning: Glyph 22303 missing from current font.\n",
      "  font.set_text(s, 0.0, flags=flags)\n",
      "C:\\Users\\karin\\anaconda3\\lib\\site-packages\\matplotlib\\backends\\backend_agg.py:238: RuntimeWarning: Glyph 22320 missing from current font.\n",
      "  font.set_text(s, 0.0, flags=flags)\n",
      "C:\\Users\\karin\\anaconda3\\lib\\site-packages\\matplotlib\\backends\\backend_agg.py:238: RuntimeWarning: Glyph 38754 missing from current font.\n",
      "  font.set_text(s, 0.0, flags=flags)\n",
      "C:\\Users\\karin\\anaconda3\\lib\\site-packages\\matplotlib\\backends\\backend_agg.py:238: RuntimeWarning: Glyph 31309 missing from current font.\n",
      "  font.set_text(s, 0.0, flags=flags)\n",
      "C:\\Users\\karin\\anaconda3\\lib\\site-packages\\matplotlib\\backends\\backend_agg.py:238: RuntimeWarning: Glyph 24314 missing from current font.\n",
      "  font.set_text(s, 0.0, flags=flags)\n",
      "C:\\Users\\karin\\anaconda3\\lib\\site-packages\\matplotlib\\backends\\backend_agg.py:238: RuntimeWarning: Glyph 29289 missing from current font.\n",
      "  font.set_text(s, 0.0, flags=flags)\n",
      "C:\\Users\\karin\\anaconda3\\lib\\site-packages\\matplotlib\\backends\\backend_agg.py:238: RuntimeWarning: Glyph 12496 missing from current font.\n",
      "  font.set_text(s, 0.0, flags=flags)\n",
      "C:\\Users\\karin\\anaconda3\\lib\\site-packages\\matplotlib\\backends\\backend_agg.py:238: RuntimeWarning: Glyph 12523 missing from current font.\n",
      "  font.set_text(s, 0.0, flags=flags)\n",
      "C:\\Users\\karin\\anaconda3\\lib\\site-packages\\matplotlib\\backends\\backend_agg.py:238: RuntimeWarning: Glyph 12467 missing from current font.\n",
      "  font.set_text(s, 0.0, flags=flags)\n",
      "C:\\Users\\karin\\anaconda3\\lib\\site-packages\\matplotlib\\backends\\backend_agg.py:238: RuntimeWarning: Glyph 12491 missing from current font.\n",
      "  font.set_text(s, 0.0, flags=flags)\n",
      "C:\\Users\\karin\\anaconda3\\lib\\site-packages\\matplotlib\\backends\\backend_agg.py:238: RuntimeWarning: Glyph 12540 missing from current font.\n",
      "  font.set_text(s, 0.0, flags=flags)\n",
      "C:\\Users\\karin\\anaconda3\\lib\\site-packages\\matplotlib\\backends\\backend_agg.py:238: RuntimeWarning: Glyph 31689 missing from current font.\n",
      "  font.set_text(s, 0.0, flags=flags)\n",
      "C:\\Users\\karin\\anaconda3\\lib\\site-packages\\matplotlib\\backends\\backend_agg.py:238: RuntimeWarning: Glyph 24180 missing from current font.\n",
      "  font.set_text(s, 0.0, flags=flags)\n",
      "C:\\Users\\karin\\anaconda3\\lib\\site-packages\\matplotlib\\backends\\backend_agg.py:238: RuntimeWarning: Glyph 25968 missing from current font.\n",
      "  font.set_text(s, 0.0, flags=flags)\n",
      "C:\\Users\\karin\\anaconda3\\lib\\site-packages\\matplotlib\\backends\\backend_agg.py:201: RuntimeWarning: Glyph 36009 missing from current font.\n",
      "  font.set_text(s, 0, flags=flags)\n",
      "C:\\Users\\karin\\anaconda3\\lib\\site-packages\\matplotlib\\backends\\backend_agg.py:201: RuntimeWarning: Glyph 22770 missing from current font.\n",
      "  font.set_text(s, 0, flags=flags)\n",
      "C:\\Users\\karin\\anaconda3\\lib\\site-packages\\matplotlib\\backends\\backend_agg.py:201: RuntimeWarning: Glyph 20385 missing from current font.\n",
      "  font.set_text(s, 0, flags=flags)\n",
      "C:\\Users\\karin\\anaconda3\\lib\\site-packages\\matplotlib\\backends\\backend_agg.py:201: RuntimeWarning: Glyph 26684 missing from current font.\n",
      "  font.set_text(s, 0, flags=flags)\n",
      "C:\\Users\\karin\\anaconda3\\lib\\site-packages\\matplotlib\\backends\\backend_agg.py:201: RuntimeWarning: Glyph 22303 missing from current font.\n",
      "  font.set_text(s, 0, flags=flags)\n",
      "C:\\Users\\karin\\anaconda3\\lib\\site-packages\\matplotlib\\backends\\backend_agg.py:201: RuntimeWarning: Glyph 22320 missing from current font.\n",
      "  font.set_text(s, 0, flags=flags)\n",
      "C:\\Users\\karin\\anaconda3\\lib\\site-packages\\matplotlib\\backends\\backend_agg.py:201: RuntimeWarning: Glyph 38754 missing from current font.\n",
      "  font.set_text(s, 0, flags=flags)\n",
      "C:\\Users\\karin\\anaconda3\\lib\\site-packages\\matplotlib\\backends\\backend_agg.py:201: RuntimeWarning: Glyph 31309 missing from current font.\n",
      "  font.set_text(s, 0, flags=flags)\n",
      "C:\\Users\\karin\\anaconda3\\lib\\site-packages\\matplotlib\\backends\\backend_agg.py:201: RuntimeWarning: Glyph 24314 missing from current font.\n",
      "  font.set_text(s, 0, flags=flags)\n",
      "C:\\Users\\karin\\anaconda3\\lib\\site-packages\\matplotlib\\backends\\backend_agg.py:201: RuntimeWarning: Glyph 29289 missing from current font.\n",
      "  font.set_text(s, 0, flags=flags)\n",
      "C:\\Users\\karin\\anaconda3\\lib\\site-packages\\matplotlib\\backends\\backend_agg.py:201: RuntimeWarning: Glyph 12496 missing from current font.\n",
      "  font.set_text(s, 0, flags=flags)\n",
      "C:\\Users\\karin\\anaconda3\\lib\\site-packages\\matplotlib\\backends\\backend_agg.py:201: RuntimeWarning: Glyph 12523 missing from current font.\n",
      "  font.set_text(s, 0, flags=flags)\n",
      "C:\\Users\\karin\\anaconda3\\lib\\site-packages\\matplotlib\\backends\\backend_agg.py:201: RuntimeWarning: Glyph 12467 missing from current font.\n",
      "  font.set_text(s, 0, flags=flags)\n",
      "C:\\Users\\karin\\anaconda3\\lib\\site-packages\\matplotlib\\backends\\backend_agg.py:201: RuntimeWarning: Glyph 12491 missing from current font.\n",
      "  font.set_text(s, 0, flags=flags)\n",
      "C:\\Users\\karin\\anaconda3\\lib\\site-packages\\matplotlib\\backends\\backend_agg.py:201: RuntimeWarning: Glyph 12540 missing from current font.\n",
      "  font.set_text(s, 0, flags=flags)\n",
      "C:\\Users\\karin\\anaconda3\\lib\\site-packages\\matplotlib\\backends\\backend_agg.py:201: RuntimeWarning: Glyph 31689 missing from current font.\n",
      "  font.set_text(s, 0, flags=flags)\n",
      "C:\\Users\\karin\\anaconda3\\lib\\site-packages\\matplotlib\\backends\\backend_agg.py:201: RuntimeWarning: Glyph 24180 missing from current font.\n",
      "  font.set_text(s, 0, flags=flags)\n",
      "C:\\Users\\karin\\anaconda3\\lib\\site-packages\\matplotlib\\backends\\backend_agg.py:201: RuntimeWarning: Glyph 25968 missing from current font.\n",
      "  font.set_text(s, 0, flags=flags)\n"
     ]
    },
    {
     "data": {
      "image/png": "[encoded data removed]",
      "text/plain": [
       "<Figure size 900x900 with 30 Axes>"
      ]
     },
     "metadata": {
      "needs_background": "light"
     },
     "output_type": "display_data"
    }
   ],
   "source": [
    "sns.pairplot(filtered)\n",
    "plt.show()"
   ]
  },
  {
   "cell_type": "code",
   "execution_count": 32,
   "metadata": {},
   "outputs": [
    {
     "name": "stdout",
     "output_type": "stream",
     "text": [
      "C:\\Users\\karin\\anaconda3\\lib\\site-packages\\matplotlib\\mpl-data\\matplotlibrc\n"
     ]
    }
   ],
   "source": [
    "import matplotlib\n",
    "print(matplotlib.matplotlib_fname())"
   ]
  },
  {
   "cell_type": "code",
   "execution_count": 33,
   "metadata": {
    "collapsed": true
   },
   "outputs": [
    {
     "name": "stderr",
     "output_type": "stream",
     "text": [
      "C:\\Users\\karin\\anaconda3\\lib\\site-packages\\matplotlib\\backends\\backend_agg.py:238: RuntimeWarning: Glyph 36009 missing from current font.\n",
      "  font.set_text(s, 0.0, flags=flags)\n",
      "C:\\Users\\karin\\anaconda3\\lib\\site-packages\\matplotlib\\backends\\backend_agg.py:238: RuntimeWarning: Glyph 22770 missing from current font.\n",
      "  font.set_text(s, 0.0, flags=flags)\n",
      "C:\\Users\\karin\\anaconda3\\lib\\site-packages\\matplotlib\\backends\\backend_agg.py:238: RuntimeWarning: Glyph 20385 missing from current font.\n",
      "  font.set_text(s, 0.0, flags=flags)\n",
      "C:\\Users\\karin\\anaconda3\\lib\\site-packages\\matplotlib\\backends\\backend_agg.py:238: RuntimeWarning: Glyph 26684 missing from current font.\n",
      "  font.set_text(s, 0.0, flags=flags)\n",
      "C:\\Users\\karin\\anaconda3\\lib\\site-packages\\matplotlib\\backends\\backend_agg.py:201: RuntimeWarning: Glyph 36009 missing from current font.\n",
      "  font.set_text(s, 0, flags=flags)\n",
      "C:\\Users\\karin\\anaconda3\\lib\\site-packages\\matplotlib\\backends\\backend_agg.py:201: RuntimeWarning: Glyph 22770 missing from current font.\n",
      "  font.set_text(s, 0, flags=flags)\n",
      "C:\\Users\\karin\\anaconda3\\lib\\site-packages\\matplotlib\\backends\\backend_agg.py:201: RuntimeWarning: Glyph 20385 missing from current font.\n",
      "  font.set_text(s, 0, flags=flags)\n",
      "C:\\Users\\karin\\anaconda3\\lib\\site-packages\\matplotlib\\backends\\backend_agg.py:201: RuntimeWarning: Glyph 26684 missing from current font.\n",
      "  font.set_text(s, 0, flags=flags)\n"
     ]
    },
    {
     "data": {
      "image/png": "[encoded data removed]",
      "text/plain": [
       "<Figure size 432x288 with 1 Axes>"
      ]
     },
     "metadata": {
      "needs_background": "light"
     },
     "output_type": "display_data"
    }
   ],
   "source": [
    "sns.boxplot(x='販売価格', data=filtered)\n",
    "plt.show()"
   ]
  },
  {
   "cell_type": "code",
   "execution_count": 112,
   "metadata": {
    "collapsed": true
   },
   "outputs": [
    {
     "data": {
      "text/html": [
       "<div>\n",
       "<style scoped>\n",
       "    .dataframe tbody tr th:only-of-type {\n",
       "        vertical-align: middle;\n",
       "    }\n",
       "\n",
       "    .dataframe tbody tr th {\n",
       "        vertical-align: top;\n",
       "    }\n",
       "\n",
       "    .dataframe thead th {\n",
       "        text-align: right;\n",
       "    }\n",
       "</style>\n",
       "<table border=\"1\" class=\"dataframe\">\n",
       "  <thead>\n",
       "    <tr style=\"text-align: right;\">\n",
       "      <th></th>\n",
       "      <th>販売価格</th>\n",
       "      <th>土地面積</th>\n",
       "      <th>建物面積</th>\n",
       "      <th>バルコニー</th>\n",
       "      <th>築年数</th>\n",
       "    </tr>\n",
       "  </thead>\n",
       "  <tbody>\n",
       "    <tr>\n",
       "      <th>count</th>\n",
       "      <td>8.300000e+01</td>\n",
       "      <td>83.000000</td>\n",
       "      <td>83.000000</td>\n",
       "      <td>83.000000</td>\n",
       "      <td>83.000000</td>\n",
       "    </tr>\n",
       "    <tr>\n",
       "      <th>mean</th>\n",
       "      <td>4.881928e+07</td>\n",
       "      <td>247.991446</td>\n",
       "      <td>150.572048</td>\n",
       "      <td>1.618916</td>\n",
       "      <td>32.698795</td>\n",
       "    </tr>\n",
       "    <tr>\n",
       "      <th>std</th>\n",
       "      <td>3.644040e+07</td>\n",
       "      <td>216.925313</td>\n",
       "      <td>76.677458</td>\n",
       "      <td>7.544517</td>\n",
       "      <td>11.340339</td>\n",
       "    </tr>\n",
       "    <tr>\n",
       "      <th>min</th>\n",
       "      <td>7.000000e+06</td>\n",
       "      <td>62.010000</td>\n",
       "      <td>42.230000</td>\n",
       "      <td>0.000000</td>\n",
       "      <td>0.000000</td>\n",
       "    </tr>\n",
       "    <tr>\n",
       "      <th>25%</th>\n",
       "      <td>2.680000e+07</td>\n",
       "      <td>164.500000</td>\n",
       "      <td>95.580000</td>\n",
       "      <td>0.000000</td>\n",
       "      <td>27.000000</td>\n",
       "    </tr>\n",
       "    <tr>\n",
       "      <th>50%</th>\n",
       "      <td>3.480000e+07</td>\n",
       "      <td>225.390000</td>\n",
       "      <td>142.520000</td>\n",
       "      <td>0.000000</td>\n",
       "      <td>33.000000</td>\n",
       "    </tr>\n",
       "    <tr>\n",
       "      <th>75%</th>\n",
       "      <td>5.330000e+07</td>\n",
       "      <td>259.960000</td>\n",
       "      <td>164.370000</td>\n",
       "      <td>0.000000</td>\n",
       "      <td>42.000000</td>\n",
       "    </tr>\n",
       "    <tr>\n",
       "      <th>max</th>\n",
       "      <td>1.830000e+08</td>\n",
       "      <td>1920.360000</td>\n",
       "      <td>500.320000</td>\n",
       "      <td>50.100000</td>\n",
       "      <td>62.000000</td>\n",
       "    </tr>\n",
       "  </tbody>\n",
       "</table>\n",
       "</div>"
      ],
      "text/plain": [
       "               販売価格         土地面積        建物面積      バルコニー        築年数\n",
       "count  8.300000e+01    83.000000   83.000000  83.000000  83.000000\n",
       "mean   4.881928e+07   247.991446  150.572048   1.618916  32.698795\n",
       "std    3.644040e+07   216.925313   76.677458   7.544517  11.340339\n",
       "min    7.000000e+06    62.010000   42.230000   0.000000   0.000000\n",
       "25%    2.680000e+07   164.500000   95.580000   0.000000  27.000000\n",
       "50%    3.480000e+07   225.390000  142.520000   0.000000  33.000000\n",
       "75%    5.330000e+07   259.960000  164.370000   0.000000  42.000000\n",
       "max    1.830000e+08  1920.360000  500.320000  50.100000  62.000000"
      ]
     },
     "execution_count": 112,
     "metadata": {},
     "output_type": "execute_result"
    }
   ],
   "source": [
    "filtered.describe()"
   ]
  },
  {
   "cell_type": "code",
   "execution_count": null,
   "metadata": {},
   "outputs": [],
   "source": []
  }
 ],
 "metadata": {
  "kernelspec": {
   "display_name": "Python 3",
   "language": "python",
   "name": "python3"
  },
  "language_info": {
   "codemirror_mode": {
    "name": "ipython",
    "version": 3
   },
   "file_extension": ".py",
   "mimetype": "text/x-python",
   "name": "python",
   "nbconvert_exporter": "python",
   "pygments_lexer": "ipython3",
   "version": "3.8.8"
  }
 },
 "nbformat": 4,
 "nbformat_minor": 4
}
